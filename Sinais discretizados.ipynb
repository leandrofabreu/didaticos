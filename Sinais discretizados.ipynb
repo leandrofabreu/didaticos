{
  "nbformat": 4,
  "nbformat_minor": 0,
  "metadata": {
    "kernelspec": {
      "display_name": "Python 3",
      "language": "python",
      "name": "python3"
    },
    "language_info": {
      "codemirror_mode": {
        "name": "ipython",
        "version": 3
      },
      "file_extension": ".py",
      "mimetype": "text/x-python",
      "name": "python",
      "nbconvert_exporter": "python",
      "pygments_lexer": "ipython3",
      "version": "3.6.3"
    },
    "toc": {
      "nav_menu": {},
      "number_sections": true,
      "sideBar": true,
      "skip_h1_title": false,
      "title_cell": "Table of Contents",
      "title_sidebar": "Contents",
      "toc_cell": false,
      "toc_position": {},
      "toc_section_display": true,
      "toc_window_display": false
    },
    "colab": {
      "name": "ASDL_sinais_discretos.ipynb",
      "provenance": []
    },
    "widgets": {
      "application/vnd.jupyter.widget-state+json": {
        "954e4f59971b4d6e8908a2c6554b582b": {
          "model_module": "@jupyter-widgets/controls",
          "model_name": "VBoxModel",
          "state": {
            "_view_name": "VBoxView",
            "_dom_classes": [
              "widget-interact"
            ],
            "_model_name": "VBoxModel",
            "_view_module": "@jupyter-widgets/controls",
            "_model_module_version": "1.5.0",
            "_view_count": null,
            "_view_module_version": "1.5.0",
            "box_style": "",
            "layout": "IPY_MODEL_21a06f7f9a554f7cb65ba8fddbe3a5f8",
            "_model_module": "@jupyter-widgets/controls",
            "children": [
              "IPY_MODEL_9a33bbfbf4a144ee864b855d4f4cb46c",
              "IPY_MODEL_8cdddc933bec46cbabd4329ea265dcb7",
              "IPY_MODEL_f3ae33b9994c4e77a49e110f9589ae81"
            ]
          }
        },
        "21a06f7f9a554f7cb65ba8fddbe3a5f8": {
          "model_module": "@jupyter-widgets/base",
          "model_name": "LayoutModel",
          "state": {
            "_view_name": "LayoutView",
            "grid_template_rows": null,
            "right": null,
            "justify_content": null,
            "_view_module": "@jupyter-widgets/base",
            "overflow": null,
            "_model_module_version": "1.2.0",
            "_view_count": null,
            "flex_flow": null,
            "width": null,
            "min_width": null,
            "border": null,
            "align_items": null,
            "bottom": null,
            "_model_module": "@jupyter-widgets/base",
            "top": null,
            "grid_column": null,
            "overflow_y": null,
            "overflow_x": null,
            "grid_auto_flow": null,
            "grid_area": null,
            "grid_template_columns": null,
            "flex": null,
            "_model_name": "LayoutModel",
            "justify_items": null,
            "grid_row": null,
            "max_height": null,
            "align_content": null,
            "visibility": null,
            "align_self": null,
            "height": null,
            "min_height": null,
            "padding": null,
            "grid_auto_rows": null,
            "grid_gap": null,
            "max_width": null,
            "order": null,
            "_view_module_version": "1.2.0",
            "grid_template_areas": null,
            "object_position": null,
            "object_fit": null,
            "grid_auto_columns": null,
            "margin": null,
            "display": null,
            "left": null
          }
        },
        "9a33bbfbf4a144ee864b855d4f4cb46c": {
          "model_module": "@jupyter-widgets/controls",
          "model_name": "DropdownModel",
          "state": {
            "_options_labels": [
              "sin"
            ],
            "_view_name": "DropdownView",
            "style": "IPY_MODEL_006069ab464f4ec2b405a0d6d443183c",
            "_dom_classes": [],
            "description": "sinal",
            "_model_name": "DropdownModel",
            "index": 0,
            "_view_module": "@jupyter-widgets/controls",
            "_model_module_version": "1.5.0",
            "_view_count": null,
            "disabled": false,
            "_view_module_version": "1.5.0",
            "description_tooltip": null,
            "_model_module": "@jupyter-widgets/controls",
            "layout": "IPY_MODEL_204e575d8dff4f5abee39351884b812e"
          }
        },
        "8cdddc933bec46cbabd4329ea265dcb7": {
          "model_module": "@jupyter-widgets/controls",
          "model_name": "FloatSliderModel",
          "state": {
            "_view_name": "FloatSliderView",
            "style": "IPY_MODEL_373d438ea24f47f398abe9d295c0bdac",
            "_dom_classes": [],
            "description": "omega",
            "step": 0.1,
            "_model_name": "FloatSliderModel",
            "orientation": "horizontal",
            "max": 3,
            "_view_module": "@jupyter-widgets/controls",
            "_model_module_version": "1.5.0",
            "value": 2.4,
            "_view_count": null,
            "disabled": false,
            "_view_module_version": "1.5.0",
            "min": 0,
            "continuous_update": true,
            "readout_format": ".2f",
            "description_tooltip": null,
            "readout": true,
            "_model_module": "@jupyter-widgets/controls",
            "layout": "IPY_MODEL_6a2f204a3f944d668b283b1e32da3b6b"
          }
        },
        "f3ae33b9994c4e77a49e110f9589ae81": {
          "model_module": "@jupyter-widgets/output",
          "model_name": "OutputModel",
          "state": {
            "_view_name": "OutputView",
            "msg_id": "",
            "_dom_classes": [],
            "_model_name": "OutputModel",
            "outputs": [
              {
                "output_type": "display_data",
                "metadata": {
                  "tags": [],
                  "needs_background": "light"
                },
                "image/png": "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\n",
                "text/plain": "<Figure size 1080x252 with 1 Axes>"
              }
            ],
            "_view_module": "@jupyter-widgets/output",
            "_model_module_version": "1.0.0",
            "_view_count": null,
            "_view_module_version": "1.0.0",
            "layout": "IPY_MODEL_e1a26386a52a4333bfa6f11207952da7",
            "_model_module": "@jupyter-widgets/output"
          }
        },
        "006069ab464f4ec2b405a0d6d443183c": {
          "model_module": "@jupyter-widgets/controls",
          "model_name": "DescriptionStyleModel",
          "state": {
            "_view_name": "StyleView",
            "_model_name": "DescriptionStyleModel",
            "description_width": "",
            "_view_module": "@jupyter-widgets/base",
            "_model_module_version": "1.5.0",
            "_view_count": null,
            "_view_module_version": "1.2.0",
            "_model_module": "@jupyter-widgets/controls"
          }
        },
        "204e575d8dff4f5abee39351884b812e": {
          "model_module": "@jupyter-widgets/base",
          "model_name": "LayoutModel",
          "state": {
            "_view_name": "LayoutView",
            "grid_template_rows": null,
            "right": null,
            "justify_content": null,
            "_view_module": "@jupyter-widgets/base",
            "overflow": null,
            "_model_module_version": "1.2.0",
            "_view_count": null,
            "flex_flow": null,
            "width": null,
            "min_width": null,
            "border": null,
            "align_items": null,
            "bottom": null,
            "_model_module": "@jupyter-widgets/base",
            "top": null,
            "grid_column": null,
            "overflow_y": null,
            "overflow_x": null,
            "grid_auto_flow": null,
            "grid_area": null,
            "grid_template_columns": null,
            "flex": null,
            "_model_name": "LayoutModel",
            "justify_items": null,
            "grid_row": null,
            "max_height": null,
            "align_content": null,
            "visibility": null,
            "align_self": null,
            "height": null,
            "min_height": null,
            "padding": null,
            "grid_auto_rows": null,
            "grid_gap": null,
            "max_width": null,
            "order": null,
            "_view_module_version": "1.2.0",
            "grid_template_areas": null,
            "object_position": null,
            "object_fit": null,
            "grid_auto_columns": null,
            "margin": null,
            "display": null,
            "left": null
          }
        },
        "373d438ea24f47f398abe9d295c0bdac": {
          "model_module": "@jupyter-widgets/controls",
          "model_name": "SliderStyleModel",
          "state": {
            "_view_name": "StyleView",
            "handle_color": null,
            "_model_name": "SliderStyleModel",
            "description_width": "",
            "_view_module": "@jupyter-widgets/base",
            "_model_module_version": "1.5.0",
            "_view_count": null,
            "_view_module_version": "1.2.0",
            "_model_module": "@jupyter-widgets/controls"
          }
        },
        "6a2f204a3f944d668b283b1e32da3b6b": {
          "model_module": "@jupyter-widgets/base",
          "model_name": "LayoutModel",
          "state": {
            "_view_name": "LayoutView",
            "grid_template_rows": null,
            "right": null,
            "justify_content": null,
            "_view_module": "@jupyter-widgets/base",
            "overflow": null,
            "_model_module_version": "1.2.0",
            "_view_count": null,
            "flex_flow": null,
            "width": null,
            "min_width": null,
            "border": null,
            "align_items": null,
            "bottom": null,
            "_model_module": "@jupyter-widgets/base",
            "top": null,
            "grid_column": null,
            "overflow_y": null,
            "overflow_x": null,
            "grid_auto_flow": null,
            "grid_area": null,
            "grid_template_columns": null,
            "flex": null,
            "_model_name": "LayoutModel",
            "justify_items": null,
            "grid_row": null,
            "max_height": null,
            "align_content": null,
            "visibility": null,
            "align_self": null,
            "height": null,
            "min_height": null,
            "padding": null,
            "grid_auto_rows": null,
            "grid_gap": null,
            "max_width": null,
            "order": null,
            "_view_module_version": "1.2.0",
            "grid_template_areas": null,
            "object_position": null,
            "object_fit": null,
            "grid_auto_columns": null,
            "margin": null,
            "display": null,
            "left": null
          }
        },
        "e1a26386a52a4333bfa6f11207952da7": {
          "model_module": "@jupyter-widgets/base",
          "model_name": "LayoutModel",
          "state": {
            "_view_name": "LayoutView",
            "grid_template_rows": null,
            "right": null,
            "justify_content": null,
            "_view_module": "@jupyter-widgets/base",
            "overflow": null,
            "_model_module_version": "1.2.0",
            "_view_count": null,
            "flex_flow": null,
            "width": null,
            "min_width": null,
            "border": null,
            "align_items": null,
            "bottom": null,
            "_model_module": "@jupyter-widgets/base",
            "top": null,
            "grid_column": null,
            "overflow_y": null,
            "overflow_x": null,
            "grid_auto_flow": null,
            "grid_area": null,
            "grid_template_columns": null,
            "flex": null,
            "_model_name": "LayoutModel",
            "justify_items": null,
            "grid_row": null,
            "max_height": null,
            "align_content": null,
            "visibility": null,
            "align_self": null,
            "height": null,
            "min_height": null,
            "padding": null,
            "grid_auto_rows": null,
            "grid_gap": null,
            "max_width": null,
            "order": null,
            "_view_module_version": "1.2.0",
            "grid_template_areas": null,
            "object_position": null,
            "object_fit": null,
            "grid_auto_columns": null,
            "margin": null,
            "display": null,
            "left": null
          }
        },
        "f797ecb1922a4f5e854e9d023fe653f1": {
          "model_module": "@jupyter-widgets/controls",
          "model_name": "VBoxModel",
          "state": {
            "_view_name": "VBoxView",
            "_dom_classes": [
              "widget-interact"
            ],
            "_model_name": "VBoxModel",
            "_view_module": "@jupyter-widgets/controls",
            "_model_module_version": "1.5.0",
            "_view_count": null,
            "_view_module_version": "1.5.0",
            "box_style": "",
            "layout": "IPY_MODEL_abf4141e789e4be4931739337606be7c",
            "_model_module": "@jupyter-widgets/controls",
            "children": [
              "IPY_MODEL_02be391a9fd04b4aa77a11bac413f0f1",
              "IPY_MODEL_adbadaebbebd42daa7f99fc6a98f9b99",
              "IPY_MODEL_9487807e1f314c57a75a3b946b4bc0ce"
            ]
          }
        },
        "abf4141e789e4be4931739337606be7c": {
          "model_module": "@jupyter-widgets/base",
          "model_name": "LayoutModel",
          "state": {
            "_view_name": "LayoutView",
            "grid_template_rows": null,
            "right": null,
            "justify_content": null,
            "_view_module": "@jupyter-widgets/base",
            "overflow": null,
            "_model_module_version": "1.2.0",
            "_view_count": null,
            "flex_flow": null,
            "width": null,
            "min_width": null,
            "border": null,
            "align_items": null,
            "bottom": null,
            "_model_module": "@jupyter-widgets/base",
            "top": null,
            "grid_column": null,
            "overflow_y": null,
            "overflow_x": null,
            "grid_auto_flow": null,
            "grid_area": null,
            "grid_template_columns": null,
            "flex": null,
            "_model_name": "LayoutModel",
            "justify_items": null,
            "grid_row": null,
            "max_height": null,
            "align_content": null,
            "visibility": null,
            "align_self": null,
            "height": null,
            "min_height": null,
            "padding": null,
            "grid_auto_rows": null,
            "grid_gap": null,
            "max_width": null,
            "order": null,
            "_view_module_version": "1.2.0",
            "grid_template_areas": null,
            "object_position": null,
            "object_fit": null,
            "grid_auto_columns": null,
            "margin": null,
            "display": null,
            "left": null
          }
        },
        "02be391a9fd04b4aa77a11bac413f0f1": {
          "model_module": "@jupyter-widgets/controls",
          "model_name": "DropdownModel",
          "state": {
            "_options_labels": [
              "sin"
            ],
            "_view_name": "DropdownView",
            "style": "IPY_MODEL_bd560393d44e42db8df0bf7019bcd226",
            "_dom_classes": [],
            "description": "sinal",
            "_model_name": "DropdownModel",
            "index": 0,
            "_view_module": "@jupyter-widgets/controls",
            "_model_module_version": "1.5.0",
            "_view_count": null,
            "disabled": false,
            "_view_module_version": "1.5.0",
            "description_tooltip": null,
            "_model_module": "@jupyter-widgets/controls",
            "layout": "IPY_MODEL_0c1549d3bb744daba3bfec2194a16097"
          }
        },
        "adbadaebbebd42daa7f99fc6a98f9b99": {
          "model_module": "@jupyter-widgets/controls",
          "model_name": "FloatSliderModel",
          "state": {
            "_view_name": "FloatSliderView",
            "style": "IPY_MODEL_bcfc03a755984fc892c1beffb1e98498",
            "_dom_classes": [],
            "description": "omega",
            "step": 0.1,
            "_model_name": "FloatSliderModel",
            "orientation": "horizontal",
            "max": 10,
            "_view_module": "@jupyter-widgets/controls",
            "_model_module_version": "1.5.0",
            "value": 3.4,
            "_view_count": null,
            "disabled": false,
            "_view_module_version": "1.5.0",
            "min": 0,
            "continuous_update": true,
            "readout_format": ".2f",
            "description_tooltip": null,
            "readout": true,
            "_model_module": "@jupyter-widgets/controls",
            "layout": "IPY_MODEL_7d5e586c8c994fb9a9d6783d6545b712"
          }
        },
        "9487807e1f314c57a75a3b946b4bc0ce": {
          "model_module": "@jupyter-widgets/output",
          "model_name": "OutputModel",
          "state": {
            "_view_name": "OutputView",
            "msg_id": "",
            "_dom_classes": [],
            "_model_name": "OutputModel",
            "outputs": [
              {
                "output_type": "display_data",
                "metadata": {
                  "tags": [],
                  "needs_background": "light"
                },
                "image/png": "iVBORw0KGgoAAAANSUhEUgAAA3kAAAD9CAYAAAABOb6GAAAABHNCSVQICAgIfAhkiAAAAAlwSFlzAAALEgAACxIB0t1+/AAAADh0RVh0U29mdHdhcmUAbWF0cGxvdGxpYiB2ZXJzaW9uMy4yLjIsIGh0dHA6Ly9tYXRwbG90bGliLm9yZy+WH4yJAAAgAElEQVR4nOy9eZhdR3km/lbf3qXWYlvebckb3sALFsbswTG2IRObJISfnYYYBqJAYMb8sgwEP0CGRAlkAbIwCQICNulhiYcEMzZxiG0gxAuWHVvebcmWZO2SpZbUe/e93/xR93QfXZ2lzql6763bqvd5+nH37dOlcp063/K+31dHiQgCAgICAgICAgICAgIC5gc6Wj2BgICAgICAgICAgICAAHcISV5AQEBAQEBAQEBAQMA8QkjyAgICAgICAgICAgIC5hFCkhcQEBAQEBAQEBAQEDCPEJK8gICAgICAgICAgICAeYSQ5AUEBAQEBAQEBAQEBMwjhCQvICAgICAgICAgICBgHiEkeQEBAQEBAQEBAQEBAfMIIckLCAgICJi3UBqblFJnGl7/J0qpj7DnVQRKqZ8ppc5v9TwCAgICAtoHIckLCAgICJi3EI3lIrI+71ql1DIAvw7gS/Wf/0EptV0pdUAp9axS6v0m/6ZS6iyl1IRS6h/sZj+LPwfwaUdjBQQEBAQcAVAi0uo5BAQEBAQEtBxKqd8D8DIR+Y36z+cDWC8ik0qpcwD8CMAviMhDOeP8K4A+AJtE5F0O5tULYBuA80Rkh+14AQEBAQHzH0HJCwgICAhoeyilTldK3a6U2lNX3n5Y//x9Sql/rn//m0qpO5RSX6xft00p9ZbYMG8F8OPoBxF5QkQmox/rX2fkzOM6AMMA7op91lOfU1UpNVL/qtbVvivy5iYiEwAeAnCV5TIFBAQEBBwhCEleQEBAQMB8wC0A7gBwHIBjAfxB/fMLATwa+/4yALfVr/kSgI/GxngFgGfigyql/pdSagzA0wC21/+NRCilFkGXVf52/PN6ongjgLtEZKGILASwAcCVIvJvhnN7qn5NQEBAQEBALkKSFxAQEBAwH3AGgAqAiohMiMh/1D+PJ3kXAPiMiNwpIjUATzaMsQTAwfgHIvJbAAYAvAHAdwFMIh1/COCrIrIl4XevAPAYACilFtTn+1js93lzO1ifX0BAQEBAQC5CkhcQEBAQMB8wCOBaANuUUl9VSh1V//wCAI8qpRR0ovX92N+8HIcmU/ugE7pDICJVEfkpgJMBfDDpH1dKXQTgCgCfT5nfbJJX/367iOyr/63J3Aagy0ADAgICAgJyEZK8gICAgIC2h4jcLSI/D+A8aPXuPUqp5QA6ATwPYEX9+3g55sUAHon9vA7AyzL+mU6k9+T9XP3f2KyU2gHgdwH8ilLq4frv40nehThUxTOZ27mYUyQDAgICAgIyEZK8gICAgIC2hlLql+uvLVDQitdS6ATpQgDrRB8jfQGAx+qlkBEuxqGJ0x0A3lQf81il1HVKqYVKqYpS6ioA1yN2oEoD1kAngBfVv/4OwO0Arqq/mmEZ5pS5cwA8G/vbzLnVT9e8BMAPTdckICAgIODIRkjyAgICAgLaHa+HPhXzIHSi9hkRuRv1JK9+zQWIKWNKqWMAHA/g8dg4twB4m1KqD/okzQ8C2AJdxvnnAD4iIrfFxviBUurjACAiYyKyI/oCMAJgQkR2Q6t4G0RkvP6nWwG8Uyn1asO5/SKAH4nItrILFBAQEBBwZCG8Jy8gICAgIKAOpdQfA9glIl9o9VwiKKUeAPA+EXk89+KAgICAgACEJC8gICAgICAgICAgIGBeIZRrBgQEBAQEBAQEBAQEzCOEJC8gICAgICAgICAgIGAeISR5AQEBAQEBAQEBAQEB8wghyQsICAgICAgICAgICJhH6Gz1BMrgmGOOkRUrVjgbb3R0FAsWLHA2nmv4PD+f5waE+dkizM8OYX7l4fPcgDA/W4T52SHMrzx8nhsQ5meLI21+Dz300B4RWZb4SxFpu69LLrlEXOKee+5xOp5r+Dw/n+cmEuZnizA/O4T5lYfPcxMJ87NFmJ8dwvzKw+e5iYT52eJImx+AtZKSL4VyzYCAgICAgICAgICAgHmEkOQFBAQEBAQEBAQEBATMI4QkLyAgICAgICAgICAgYB7BSZKnlPp7pdQupdTjKb9XSqm/UkqtV0qtU0q9Mva7G5RSz9W/bnAxn4CAgICAgICAgICAgCMVrpS8rwO4OuP3bwVwVv1rFYC/BQCl1FEAPgXg1QAuBfAppdRSR3MKCAgICAgICAgICAg44uAkyRORnwDYm3HJtQBuqR8Ecz+AJUqpEwBcBeCHIrJXRPYB+CGyk8Xm4fnnWz2DANcYHgb272/1LPzDyAiwaVOrZ+EfRNp7vxw82OoZ+IkNG4CJiVbPwj+89FLYM/MRL7zQ6hn4iSefbPUM/MToqPZ97YipKT3/gFk0qyfvJAAvxn7eUv8s7fPDoJRapZRaq5Rau3v3bv3hD34AjI+7n+3wMPCylwH79rkfuxn4wAeAf/kXztiXXgo88wxnbDY+8QngM5/hjP297wFbt3LGjjA2xhn3618HPvhBzthkqKkp4H3v4zil++8HXvc69+M2AyLAuecCzz7rfuzxceDXfx2o1dyP3QwMDgL/9E+csdmkwAsvAPfcwxn7ox8F/uIvOGOz8eCDwNvexhl7aAj4H/+DMzYbzz8PnHceMDPjfuy9e4E773Q/bhwvvUSxM6paBS65pH1jmb/9W+COOzhjX3klcPfdnLHZ+MIXgN/+bc7YX/sa8NOfcsYmom0OXhGRNSKyUkRWLlu2DNi+HXj724EHHnD/jz31FFCtAj/7mfuxx8aAb35Tj8/A5KR2Sg895H7sqSk97ve/737sCNu2AU8/zRn7P/4DeOIJzth//MfAn/4pZ2wA+Na3gFe9ijP2o4/q+8pIlL70JW14HWNoaAgrVqzAm6+6Civ+/u8x9Ld/6/zfwOOP6/2yfbv7sdl48klNOjDY6g0bgG98g+bwhoaGsGLpUlz+5jdjxYoVGBoacjf49DTwyCPAunXuxozjrLN4BBugiSpWIvbEE8C993LGfvBBYMcOztgA8N3valKGgbVrtU9lqRvT03r+jJjgvvu0as2oTLrrLuBXf5VHbIyNARdd5DSZmfUbV1yBFRMTGPrLv3Q29iwOHADe8x7euogAn/0sh+wR0X7vX//V/diN/w4BQ9/4BlbcfDMuv/xy977j29/mkmDr1gH/5b84H7ZZSd5WAKfEfj65/lna5/n4y7/USQejzCxKBBhO4957NZP8+tdzyih+9CNdfrdhg/uxN27UrNoPfuB+7FpNMzBnngn8t//mfvyREf0QPfWU+7EBvQ+//nVt4F1j/37gd35H31OGerJuHbBrFyeZuftu4Hd/F/jHf3Q25NDQEFatWoVNmzZBAGwCsOp3fsetQQfmVLAf/9jtuIB2GAMDwLJlHNY0CgAYSl5kt/73/3Y+9NDQEFa9973YNDys7+2mTVi1apW7e/vUU5oIYyR5Bw4Ae/YAN96ofZNrbNumnyOGzxPRa/PAAxwbs2qVro757Gfdjw0At9+uK28Y1TcbNui1f+QR92M/8gjwylcC73iHDq5d47779H8Zfm/zZl3e+5WvuB8bAP78zzVR5ShOSvQbX/6ye7/xzDPALbfogJ1RffPAA9oGMOLHXbu0HWP4JBFdCTYwALzlLc6HH7rlFqx6/HFsmpyEiLj3HRs3asLhpZfcjBfHSy9p0eqOO5xXJzYrybsNwK/XT9m8DMB+EdkO4E4AVyqlltYPXLmy/lk2qlXgy18Gfu3XtKFxjSefBF7zGo5KuG0bcN11wMqVwOc+5378738fuOIKDnO3fj3w2tdqhdN1MrNtm1YHvv99/b1rPPggcPHFwJYt7vtxJiZ0cPGWtwA33+x2bAD41KeAt74VWLgQiEqVXaFa1aTGpZcCDz/sdmxAO+nPfU6Xg27Z4mTIm266CWMNznNsYgI33XSTk/Fn8eyzwBveoIkT13j8cU1m/NIvcYK7u+/Wc2cleb/wC8CttzpPZm76vd/D2PT0IZ+NjY25u7cPPQRcdhnw2GNuxovjxReBs8/WRBVDIfjiF7VywvB527cDXV3Ascdy1N9t27Q68MlPum+x2LxZz/+CCzjk5oYNwM//PPB//6/7sT/7WeCd79Q+m0Gy3X+/jmUY93TTJuDd79Z7veGZtcbWrXrc3/xNZ/s90W/MzLj3G1u36tLhU08FPv5xt2MDuqrnF36Bk+Q999xcGatrwuTAAb0P77uP4pdu+uhH0ZhSO/MdtZre71ddpQla11i1CviVXwFWrHDe9uPqFQrfBHAfgLOVUluUUu9TSn1AKfWB+iV3AHgewHoAXwbwWwAgInsB/CGAB+tfn65/lo09e/Riv/GNHFbzySeB975XJ3muZeVt24CTT9ZKnuvyFRHgttuAj3yE5+wuvFA7jbvucjv2jh3aKF50EcfZ3Xuv3i+nnaYNmUts3qzv6Y03An/91+73zNe/DvzP/wmccoqzRGkWzz+v1aQ3v5mT5G3Zoh3SK17hrP9hc4rTT/u8NJ59VhtfRpK3Y4c26MuXu9/vtZpWH1et4iV5P/dzwDnnOC/r2ZyyFs7u7cMPa2fKUH1efFE/o3/4h8CaNW7HnpjQxOanPqXty/Cw2/Gfekr3cL7mNXPqjytMT+u1ftWrgOOO02qBS9xxB3D11VopXL/e7di1mt7vN97ISfJ27NDE6UknuSc3x8Z0LPOud3GSvM2bNUl1xhnA//k/bse+5RZNhr/+9fq5coCm+Y2tW7UdGBx03/NXrQLf+Q7wsY9xkrxnnwXOP1/vSdcVLDt2ACecoEvad+50HidtTomnndzfnTuBRYv0eRe33GI/XiMeeECTvief7GeSJyLXi8gJItIlIieLyFdF5O9E5O/qvxcR+ZCInCEirxCRtbG//XsRObP+9TWjf3B8HLj8ch0gsZS8K67Qyolrp7Ftmzboxx+vN45LrFsHdHbqBHjXLveK1fr1mqV+29vcl2zu2KEDgKOO0s7JNdt7333acJ17rvvSlU2b9F58/es1AbFnj7uxJyf1epx4ojYAjhzeLNat0wz4K1/pPsmr1XQCc9JJ+t462u+nnnpqoc9LYWZGO9Ff+iVOKev27drhnXCCe7Jn3TrgmGN04s5I8jZu1Anq9dc7LcMFgFOXJr9Bx9m9feghXUVx/vnuFdQoyTv9dPe2/fnntW086yxta1yTm08+qQ/oYCR5O3ZoIqlS0XbA9X6//XZNJJ1xhntyc/t2HdxdfbV+llzf1x07dCxw4onuk7yHH9b7/JJLeEreqafqeOM//9Pt2Dt26KT9lFOc+bxUv3HCCU7Gn8XWrdrnHXus+/1y77163Ne9TldRuCZ7nn1Wr/vll7sv2Yx8Xk8PsGCB87LHU3t7kz934TteeEELBFdeqeNgl4mYiI4xjj1W7xvHRH7bHLxyCGZmtNM49VT3Sd6BA3rzLV8OvPrV7ks2t23TBt1h0DuLf/93nZx2duq1cc30bNigHelVV7lX8nbu1M5OKf1fl0G1iA5cXvMabpKnlH5QXZZU7t6tA3alnDq8WTCTvN27df19b69eF0cM/urVq9Hf33/IZ/0dHVi9erWT8QHoROaEE7QzeuMb3bOa27frfe56rwO6H+/Nb9Z2ZmTE/QEAkcM7/3y9Tg6x+g1vQH9X1yGf9ff3u7m31are7xdfrPe86768KMlbvFgTbC5Jtj17tM8DtG13neQxlbzI5wHuyU0Rvd/f8hbtm1yTspHP6+oC3vQm4Cc/cTv+zp06FmAkefffr0uTzz1XH2bmutcy8nvLlrlvI9i1S4/r0Ocl+o1KBavf/nYn488iSvIYqvWGDbraSSlNJrmO8Z57ThNJjCQvIjQA7Vtd+r2ZGawG0N/Xd8jHznxHRGx2dur/unxW9+8H+vp0nOSrktd0NCZ5LmXfp5/WZUgdHdpAuj58JZ7kuWY0d+/WDw/AYTUjJW/5cvcOKW4ATjzRrQF49lmdbJx4IifJ27xZrwmgEzKXSl7E8ACccs0oyTv9dG1sXDrrrVu10QKcOrzBwUGsWbMG9ZGx/MQTseaYYzA4OOhkfABzjCag7cCDD7obG5grXXHt7ADNql96qQ4EzjrLbXmyyFyS53qvAxg89lisefe70dPTAwVg+UknYc2aNW7u7dNP6/VevFiXD7vuy3vxRb3flXIf+O7ePZfkMZS8p57SSt7LX65tzN78rgljbN8+l+S59nvRO72OPlr7JobPO+MM/f2JJ7oN2icnNQlz1FHcJG/RImDpUreE+MGDev5HH63tgOskL9rvJ52k94uDk0cjv7Gwq0vbluXLseaXfxmDKQpQacSVvF273Mane/boNQe0DXad5EV+7+KLdampy1dvREoe4L6C5ZlnMHjqqVjz5S9jcWfn3P115Tsinwe493s7d87FeEHJq2N6WhuAhQt1BuxywZ94Qjs7QDMmrtneKMlbssQ92/vSS3MG4Iwz3B6+Uq1qNuP004GIDXN5clTEaALuHd5zz83dU6aSB3CCu3iSx1LyOjq0muey7CZydoDz0pXB66/HC0rhkgsuwMYNGzA4POz2CPJ4knfccW5tTLWq7+txx2liwzXZs2fP3J552cvclmxGfWxLl1KSPOzcicFrrsFll12GdX192Hjrre6S94cf1qVrAEfJ27JFP6MAR9GPJ3muK1iefFLbxs5O/V+XxECjkudyvzf6PIaSd+aZ+vujj3ZP4C1bpm0vI8l74gm9zwHt/1yWbG7erEn2iNBwbQcicrO7W6+7IyJscHAQnzztNHxv6VJs3LgRg+9/v/vXTW3Zov1eT4+OlVz2/u7Zo+0u4D7Jq9XmiPxKRceoLufOVPLqAsfg4CDeccEFeLq3V99fV74jUvIALpF/8skhyQMwp+QB7ks2o94EQP8bLhlNkTk2Qyn3JZtxA+BayduyRY8dyeFHH+22prrRALh0eHv3zgUCZ5+tAxiXCUE8yWMYgGivu+7JGxnR6x4FMeec4za427KFouQBAPbvx3ilghmldJnD0Ue73TPPPKP3CqDHdmkH9uzRalJ0muHevW4Z0717tToAuE/yIkZTqbl1cVkGFnN4u7q63Dq8DRu0sgloJe/xx93OPSrXBPQz63K/x227ayVv717dAx0RMq73ezzJc+3z4kneySfroNQl+RiVawJ6/V36vKhFAeAkeXv3zvkOVpIHcMo146SGY3LztNFRPBepd2ee6V4Vj5Obrv0eM8l78UXtNxYu1D8fdRQvxnPdpvDSS7M+b2t/P06ZnHRr2194gZvkRQJHKNesQ0QHSYD7/oSI0QT0pnHp7F56ST9AkYFhOjzXSV7E8ERwzWoyyzXjQe+CBTqIdGkc21XJixjHSkX/fNRRbpk7opKHPXuwP9675drhxZU8hrOLylYqFe00XAYCcTvASvIAnaQuWOC25y+m6O/s6nLr8Pbtm1uXo47SCoqrgwtEDk3y2EqeS58X9eMppX927feapeR1dOhAzGUFSzzJYxCbUXB3/PHaBrgiH0X0PYwOMnKd5DF9Xq12aDJzyilOifwTJibwYk+P/sH1Xj9wQM8/ik8Jfo+W5D333JzPA9zv98ZyTdcxXt0OjFcqONDZ6Vb82biRV64ZV/JCuWYdnZ1zDsl16cr27XPqQ2QAXNVUx50d4L4/gZnkxctWAPcGgFmuGU/yAL02rg6MqFbnXosBuHd4jVL+9u3uGKp9++aCAMC9w4sreQ4PXgGgk7zOzrmfV6xwewjIs88equSxnB3gntWMK9fMJA/glLDFlTyXSV486AX0965IjX37dNI7MKB/dq3kxZM818Tm5s1zLDXASfKi/c6oXon2OqB9lMuSTWaSF/d5XV16P7ryHSMjulwwSmZOPdXtsxRP8hYv1krw5KSbsYeHNRne3a1/PvVUp+TmwPQ09kfE5qJFuq/TVSVFRGxG8SlTyTv9dLeERpzYBNwr+sxyzZiSBwAbe3rcvb6iWtX7L65cs3ryjj9e2wCHlT3tm+RFcF2uOTw8Fwj09emH1dVx/lu3HprkuT5prJHl2bjRXUIQb0AHuOWarpO8ePILuA3utm3TY0fOlFmu2dOj6+Rd7ZnGJM/lugDJZSuuCBOmkhd/9QPgPuiNTtaM4LIJvVrVytqSJfpn1yRYnNEE3JawjYzo/bFgAQBCkrdv36Fkj8v9HlfxAAqpMWvbTzhBz9tVP/fw8KHr0m5KXrQugFNys/PAAR1sReO7tu1xnwe49XuNxOaSJW6P24+Xa0al267sQJzYBJxXsAzMzOBAlOR1dOgk1dXaxA8bA7gtORGx6cqnxvvOAPcVLMyDV+LEJuq+w9X427bpNY8q8JhKXleXHt/h2rR/kue6dIWpbiQpeaxyzQULNEvlavzo/X4RXBr1iAWMShwYUj7L4cUZTYBbrgm47ctLSvJYSt6CBToYGBlxM3ZSkudKyTt4UM83sjNRGasrwiRergm4VfKGh7WaFM092uuuAoF4bwLg1uFFvQl1Fnxnd7fb0hWmkteY5DFP1+zocG8HIlIA4CZ5TJ8HOFV9enbtmns1DsBV8gBukueawGP6vfheB5wneQvjSR7g1u/FiU2AQ/ZE+33hQm3rXSUEjWSPy/0+Pa3HjxNVRCXvYKXiLsZL8nmuq7XidsBxX177J3kulbxaTddUR8kGwE/yXD2g4+P6QYqaZgFtvFxt9LjCCbhl8CNnFzlTdrmmy3VpdHZMlgdw+xqFJEKDpeQBbktXGpM8lyVsw8OHBr1R79mBA27GbyzXdMlqNjCa6O3VfX+uqhHiZSuA+yQvttfbTsmLM/iug7vGwNcludm43136vMlJ/dxEwd2iRdpPjY66Gb8xyVuyxFmPaOfIyKH2kVm9ArSXkhe9CD2CyyQvXr0CUJS8g/Ekz6Xfi/rcI7gkNarVwxMxl/FAox1wWa65c6e2AdG6M1sU4DjJi78iC+DHeI778uZHkufK2R04oJOkRgPgMsljGYCobCVKlAC3hj3JALhyeI3ObulSHZS6CkyTHJ5Lo85k8JkOj1mueeCAdkpxwsRl4NuY5B11FG+vR+O72u+N5ZouHV4DownAvR1oJHtcObwGZWNXZ6dO8lypkO2q5IkcWqYFuD2Mglm9Eu31jnqooZTbNoWkJM/RXu8cGTnUDixapH3S1JST8ROVPFekRhqx6eJZmpnRc4/HMq6VPFa55uQkOkUw3hELfdlKnqu9Pjys92A8/nVIaiSSPS5jvDixuWiRjg9cVfYkKXmubHsjccp8Tx7g/DUK7ZnkxYO7Y45xdzhKY9kK4NYANCp5TGcHuA3u4n0+gNskr9HZKeVWzmeymo1Bb+TsXAWmTIfHDO6i3oQ46eDS4TUmeYsX85wd4JbVbHR4LpW8ZtiBeOJOVPImKhXdh+rCWYtwSY1GsscloTEyogO76PU1gFv1gankNarWgNsKlsaDVxzagc7R0UPXxXXvWfx0TYCr5HV367jJxesl9u/XlQ2NcZhLOxAnNo8/Xv//uEiu9+3DwfjBfYDbZ4lcvXII0QNw/R6TyI9iPJcVLKxyzeHh5Oo+V+0bSUpeKNeMMRldXdqAuSj/aAzYAbcGgNmTlxTcuTYA8Y3ONABA+/QnNAa9/f2atXaxH8fGNNsVL8E99lh3zpQZ9DY6O4BbrslUrQH3Sh6rJ69xrwPu1qZa1fs6OkESoCp5ANyxmmNj2m9EzfOA2/3eeAAIs0cJ0DbHVflwM/vQAffkZnzdXSt5cdsOuCc3m1WuCbirYGn0eQBXyatUtPLj4r5GSV4crslNlpKXluQxq7WYZI9LIr8h/j3gMslrFDiiU5RdjD81pUm8uP31UclTSl2tlHpGKbVeKfWxhN9/Xin1SP3rWaXUcOx31djvbjP6BxsfUlfJTKOzA9qnJy/JALDLNV0Fd42MJuDO4VWr+iCNuFNiKhuAO4cXBXdx1nHRIneJe+N+7+/XpTguTu3bs+fwwJRZrhkFvS4UVKaSJ8I9XZOp5B04oJ1bvNSJqOQBcEcMJAW9TLJnYEA/Sy6Uk2Yz+Owkz6Xfa2a5JuAuyZuY0Hsjbn9dJnmN/aeAu170xnMLAG5PHuBuvw8PY6QxfnRpBxoTd7aS107lmo1EvityU4R78EpSjOfK70V7vdGnOjz4yjrJU0pVAHwRwFsBnAfgeqXUefFrROT/F5GLROQiAH8N4LuxX49HvxORa4z+UVaSl8bguwruGoOYJUu0sXcRVDODu5kZ3YsQV5SYjCbgjOXpHBnRiVHjaVqs4A5wawAag14mg6+UO+U6aV1cKteNSV5Xl7tyJKaSNzKi1zmuhkXOzkWC2tg/ALizA8y9DiQreYsWudnvSQQe0w4o5Z7sicNlkpem6LsoR0oL7lgVLK7LNZOUPBf7vfGwMcCtfZxPSh7gzu+xlbx2JXtEuNVajcQm4E7JGx3Vvj9WpXGwo6N9krzGve6SyIcbJe9SAOtF5HkRmQLwLQDXZlx/PYBvWv2LSUkeKxBwZQAmJvS8oxd8AtrAuzLszHLNAwf0xouzDexyTUcMVdfBg9yDKJgOj20A0gJfF/s9ie1lKnmAu/uapuS52O9Jez3qb3FxX5kHr6StC1PJc2XbGw9dAdwfNLRo0aGfudrv7CSv8b52duo9efCg/diNpU6AOyVvakqTj/F1j9bFAWGSqOS5OlU6idBwSeAxleu0oJep5Lnye/v24WCj33C1LrXa4eXsSrmzA439p4C7cs3xcU2Ex8vZmX3ogLt3Zib4vLZS8phEPtwkeScBiJ8EsaX+2WFQSi0HcBqAu2Mf9yql1iql7ldKvd3oX2x8SF2Wa7KUvKQgAHDn8Jjlmo0MTzT2yAhUtWo/PpHB7zxwoLllWkD7MviAOyUvab+7IjRmZoADBw4vu2kHRT+pjArQDtXFujMV/XZX8ljlawDXDjAZ/FotORFj+j1XSl4U3MXVsIjRd3BqH7VcM43sGR/XLQa2YPbmpu11V3aA6feYSt7IiG55iFcNAe78HrNcM8nnuWzfSPNLLuaeUL3i/OCVJLLHVZKX5PM8U/KK4DoAt3ymjO4AACAASURBVIpI3IotF5GVAH4NwBeUUmck/aFSalU9GVy7pzEYchncsZS8/fuTk7xjj3UTCDCVvKRN3tEBLFmikyhbJM3dUXCXqeS5KI9rZ5aHWcKWtN9dMZp1MqYWD+4ALtnjKriL+toaMTDgTrFiJTNJez16dYWLwJSpXDOVvFpNq17tqOSNjOhTO1mBb1KS58o+Nh66EsHR2qSWa7qwA0kBe0eHbolg2gHfyzVrteT76rBai9aTlxXjuSI1WGRPUozn8jTZJDvgisBLUPJGKhVt21yUnDNjvMbXJwDu1qUOF0neVgCxs6Nxcv2zJFyHhlJNEdla/+/zAH4E4OKkPxSRNSKyUkRWHkNkeWhJXpqS58p4sRn8RgMAAEcfjS4Xc08KkJhKXm+vNmAuGCq2kscKeqen9f9/Y8LBLtdkMZpAeyh5SXsd0J+5KI9j2oGkdensdHPy3cyMHiOJqGIqeS6Cu9FRnSg1MvjtoOgn+TyAS24y9zrgbL+nlmu6CO6S7CPgLsBrtpIXVSLYBtV79+o1aKzWclmuySQ0ku6pKyKfebpmkm0H3JVspsV4LuxAgpInSmnCxMWeYSrXSaXJAwPapzh6RYOLJO9BAGcppU5TSnVDJ3KHnZKplDoHwFIA98U+W6qU6ql/fwyA1wF4svAM2rlc05VRb3a5JuAuySOyPIlKHuAmwEtj8F2fvBRHb6/+dycn7caO9nqjGuby4JXGdYnKM2wV1LQkz+V+bwx8mYwm4Da4a2a5JuBmv4+MaKfc0eCSXK5L4z1dskSPbetM09bFZS9OMxl8gOv3XDL4zU7y2HbAZQ9qM5W8zk4dnNrumSQ1H+CWa7pal1bFeGw70IZKHoD2aFNIIh87Otz1RMNBkiciMwA+DOBOAE8B+I6IPKGU+rRSKn5a5nUAviVySIR3LoC1SqlHAdwD4DMi0rokLym4c6lsJBmAgQEeq8kOBI45Bp2249dq+uSpBQsO/dyVkpeW5LkwAGk1+K4Y/CSWXSk3a5PG4DP3e3QCpq2C2golzxWjyQ4EmAevNCPJa4RDBv+wdalUtN2xXfe0dXGVKLWzkpekbrgqTU5L8hytTYVZrplWtu3CDoyPa7/a13fo52w74ELdyLqnrk7XbFQJ2S05rhSrVpA97VCumURsAm72++SkbkVofJZcJXlplT0O23I68y/Jh4jcAeCOhs8+2fDzHyT83b0AXmE9gcWLgQ0brIdJVPIWLdJGc3r68BKCImCXZ7SqXNPWwIyM6ECrkcF3ZLy69u8HLrzw8F+4YO+ynJ2LJC/LAOzff3jgVwRZwd1zz5UfN0Lafo8CvEajWQSRs2P25rJeoZBF9tjagakpTZgkHZLkSuFsbBIH+EkeS8kD5uxAkn0zRVbizgruolPwJiYOPRGvKFql5PlerinCfRn6wYPAmWce/rkrAq/xQBqA33vmwg5klbOvX283NpDckxf5ovFxO7+U5fNYbQrtUK45NaXL8RvtlMvYt/FdnIAbOxDFeI3Pksuy7TSyZ/9+4JRTDv9dQTT74BUOXLG9SUqeUm6MIzO4m57WQVLjQ8rsxQHclGsyGU3UyzVZgUBakufy1RVJa+OC5clS8piBgAvlOqtck5XkLVmi5217wEjWfrddl+ieNjqkdlbymD15AJfscVWlwbQzzVDyGu1ATw9Qq0FNTdmNzSzbHh+HVCp6rnE0I7iz3e9JpZoA9wAmwM3cDx5M93msck3AzX5nkj31E6UP80uRfbRtgWCWa0aJe6NfagclL8vnuSLyifEvMF+SvHYoXWEagIilblTDFizQcvP0tN34zJ68LOaOXa7pe3CXZQBYwR3z4BXAXTKT5JBcsJq1mk44GvdkpaI/s90zzP1O7lFK3e8u9gy7XDNPybNBFqHh6mAqlh1gKnlTU9r3NKoj9ZLzzvFxu/GZ5ZrDw5hJ2o9Ll+qxbckeph1IS/KYL0MH3Pi9rCTPxbM0PHy4kge46UVn2oF9+/TYja0h3d26wsz2ZetJAgfgRrlmChwAtycvba+7IpTzqrUcICR5EUTSg0dmkudio6cZdaWcObymK3mRw7BkqLqSTtcE3LCarUrymEoe8z15gJv9zmR7DxxIPgAEcFO6wuzJS2M0o+TXBdvL2u/sck2mcp1VpuWCwU9KlAB3Sh7L56Ux+AAwMKB73mzAJDXSkryI7LEdfz4qeS72e175mi3SlDwXRBXTDqQlA4AbcpNZrpnm8/r6tG2zVfSZSl7aujSDyA9KXgwunN3EhHZGSc7UdyUvzbgAbgxAWk/ekiW6b8EGaevS2alLZSwZqpYqebZBdbsqedPT6YEpm+1lERqAm9IVZvKbxmj29OjnyVY5SbMDzCTvSC/XPHhQr0tSouRqvze7egUAFi1CxVZ9yPBLLnxetfEwsAgu9mRQ8pLBtO3T08D4OMYa1TDADbnJjPHS1gVwoyoxyzXT1iU6RM52bVqh5PX26v00M2M3PrMlp46Q5EXIar73XcmLAoEkMA3AwAAqtoFjFkPlwOG1RMnr7taMr80pkrWaDsqTAg12L44rZ5fC4NMcnou93io7wDwxFeA6vIEBnaTZIC3Ji+yjDWFSq6UnBOxyTWZw57uSl5PkddomeVnEAEvJA/S/yVSsWEnewID2KS4C03Ys14zimCS/5ErJY8V4IyNcO5AW47mwj1k2zFW7UrNjvOg9fCyF1pVyjfmU5LkwAGkBkguHxzxeN8sAuJKsU4y6NRub5uwAe4dXqyW/6wjgBr2AfeAbvZ4hqWywGQev2ATVOcEdzeExy1YAd6o7k+1NW3eyHaApeZ2dmjW1Ke3bv1/PMYnB971ck53ktUrJc1GuySR7spI8F6RGK5S8qH3Dxg5Uq/pZzGqxsEErqlcAfk8e2w4wyxJZ1VqAm/2eZn+Z1VqA/X2dnNQEZOPhTkAo1zwMkbOzCUzzWHCfT9dkBwIJLPjQ0BBWvPOdWPrEE1ixYgWGhobKjU1S8oaGhrBixQpUajWsOOusw+fHLNMC7A1AHvvFcnjd3frLxrCnOTvAbQlbI9jlmgsXunF4LAY/T9FnlW27YDTTkjzAntRIO3QF4NqB3l7txG16Tlql5LkIHFN83tDQEFb85Ce46OMft/cdSXvGcq8PDQ1hxYc/jOPvuSd5fq6UPFaSl2XDbNWNaM2TyEdmMjMwoJNLmwNvsmI8Zk9eM2w7y+8x9zpgvzZRyWTSa2SYPg+wT4Cjvc4qxa9jfiR5PT3a6NiUx2WVaTHZDFdKHjO4azAAQ0NDWLVqFTZt3w4BsGnTJqxataqcsyYoebPze/HF9Pk1Q8mzua9ZhpGp5AH2LH5Wj6jv5ZpZARKzgZ5d0mO73ycntTNl9Vlmzd2W1MgL7lgMvlL2a9OMMq2ktenrm3u/VVkk2LBZ2zw2Zu87CIr+7Pz27k2fn208kPbeMIBb6QDYE9ZMnwek2/ZKRbcu2Kw72w5kEfntoOi3o5IXxb5JiRKzegXgE/lByWuA7UbPKtd0dWpUlgGwUSHzmnJtNnqtdtjcb7rpJow1lGmOjY3hpptuKj4+wQAYzc93Kb8ZDH7afl+8mJegMpvQozWv1cqP3Qwlj8XgM8metJfCAu7K19Lmbrs2WaQDs1wTaA87kLTfo54Tm5LKhL3uzHfUavpQrqSeZQuyx2h+Lu5pWs+yi3ua9SzZKnnNSPKyfAeL7HHhl9LInugUSZtXWeWRPTb3VCQ9mWH2nwL25CZb4Mja77Zrk3dialDyGmC7KFlKHjO46+zU5XE2B5hkGXXbdRkZ0UYqduzw5s2bEy9N+zwTBDbDaH7MplzAjQFglmtmlSHYzj0vEGAx1RHbazP3vCTPZmw2g88ke/LKVnwu18wam20HbPd7q3ryAHu/l+DznPmOsTHtl5LKBi32utH8bO0Asw8dyA98bZU8dik+a78z9zqQTva4UPSZp2uOj8+dZt6IBQv0s2ZDnDIP12tlkueiWisoeQXQrgYAcMNmNDG4O/XUUxMvTfs8EwQlz2h+7a7kMRMCQnA3C9t1EclPCGztALMGP+vU0ZERO0WfmcwwCQ0ge+62pEbW2C5USGbgywx6p6b0V9qrAmzXJsEOOPMdWesS9UKWaN8wmp8rO5AEdpLXDkoey+9lrTuTyAfc2IFW+LxKRT9PNiIEs1yTSWwCzenJS0JI8hJgGwhkbURbAzA5qf+bxJQA9qUCzJOXEgzA6tWr0d/ff8hn/f39WL16dfHxCQ7PaH5RSaINQ9XOB69kBQK2+z0r6LXd6+PjQFfXIcryIbBlNZusbMzCxXsh8xyeDanB7E0A8pM8FtvbDALP1yQvek6TSAfAjWLVsN+d+Y6soFep0nbAaH6+K3nMeICd5OWtDYvssbUD1aq23Vk2jNmb6zjGOwTM8wWYtj06rMemr5jdkxfKNQvARVli1mZhbXLADZvBOnkpwQAMDg5izZo16OnpgQKw/KSTsGbNGgwODhYfn+Dwovkt7uzU81u+/PD5RQyVTVDdrkre1JR2Smmkg4tkphXla4Abh9eKexqN72vpShajuWCBTr5tTr5rVbmmiySPbQdasS4AhdQwss0myAp6gdL7PZrfCfXEN3F+TCUv6oO0IR/z9rvt60haqeT5muRlnToKcP0eIcY7BExykylwdHTYEwOtbMnxSclTSl2tlHpGKbVeKfWxhN+/Rym1Wyn1SP3r/bHf3aCUeq7+dUPpSdgagNHR9LIV5iYHuCewuTpwoQGDg4O47LLLsKGnBxt/+MNyCR5AK10ZHBzEx08/Hd9duhQbN25Mnp8LxaodGfzR0fQTqQC/yzXzgjvbtWEq+q0ke5jOrqND206b4LFV5Zq2J/ZNTurkNqnPEmgPO5AG0n4fHBzEb55zDn4yMJBum/OQtdcBK7JncHAQ9/b14ZfPPjt5fsxenEpFvx/V9h2rrPJkps+rVjVZlBaHMUkNNpHvc7lmVuUN4Hcyk0dU+bzfs+yAT0qeUqoC4IsA3grgPADXK6XOS7j02yJyUf3rK/W/PQrApwC8GsClAD6llEqplcqBzyxPK4M7F/XaaZscwFhHh7elK33VKsaSXoAcwea+imQnqEwDYHuKJJvBZ/coZc3dltVsZ0U/KwG2ZfBz7ICT5J1Zrpm2Lt3dmuwo+y67SLVOI0zYpfisvQ642e8pe2asUsFCW+WXoORFWDAzg4NpqowL1YdtB5il+FnKhs0hHSMjOsFLW/cjPcZjlWuyE6U80tfXagQRPpGfti79/ZpAtDmRtQ4XSt6lANaLyPMiMgXgWwCuNfzbqwD8UET2isg+AD8EcHWpWTCVPBdsQKuUPBeGMcOZOknySPXafdUqxtMcBmBnAEZGNHuf1hvGNAAR21s2aG+GUU8zjExnB7S3ou+ibyNLsbIt08or6fE1ycsjBmzua1YQAPiv5KXtdYC638c6O9Fve2JfXumzxdwXZBGEPpM909PcUvw8Rb+vr7ydybunPvfkse1AXrUWW9H3NMbL3TM2fm98XMdaac8S8+AVpdy81gNukryTALwY+3lL/bNG/IpSap1S6lal1CkF/xZKqVVKqbVKqbW7d+8+/AImyxMdy1725LtWsjzMMioAo5WKtycM9VWrOglNg81D2srgDrBzeCbsF8uos9eFyWoy1wXg9m00I4hhlZixFSvbJK9V97SvTx8qUFaFbKGiP+pCycuau00Zrgh6snwHs3wNsPN7WS+HBrivxwHs7LuJbWepPr29c6+4KYNmlGsyifwssoep5LHLNX0m8LKqtQBnJZvNOnjl+wBWiMgF0GrdzUUHEJE1IrJSRFYuW7bs8AuYrGZ3t87oo1Myi6KV9dq2jjqH7R23UfJmZvQx12njWxqA/moVoywljx30Mh1eM4K7tLXp6dHlPGWfJTKDT1X0mcFdtarXtOFkwFmQyR4rG1atajuQNvdmBAJl556lWgPc4E4pO7+Xp+QRg7txtpJnU548Po6Zjg7U0hIlZtALuEny0sA8VAuwT/Ky1oVJ9ihlt2da2ZITERplRQimkhe1tbB68phKXt5+9JnsicFFkrcVwCmxn0+ufzYLEXlJRKKo7isALjH9W2P4zPa2shenv1/LzqT+rdGODruSx4GB7H4W23JNVk9eK5k7wG6/t+BUvVnYliGw596ufRsRG8s6TIeZ5I2NZc/dd7a3lXagTRX9sUoFC6rV8oFpXgmujZI3OoqJvAoQX4O7vF5FZr91ND5LyWOWawJ+qz5ZaxO9UqgscZqn5Nmsy9iYJnbT2lp8tu0mCierJQfwSsl7EMBZSqnTlFLdAK4DcFv8AqXUCbEfrwHwVP37OwFcqZRaWj9w5cr6Z8XBLBeyHZ+ZENRqc0FSEqI6+bKvCshhe0crFTsWnMhk5JZr2hqAPEWpnYM7X0+TZTJ309NaXU6rwY9USJtDOlg9eSblazZKnkn/ls09zTspMQR3ybCZO7MnL+ekxOmODohSdoEpS8kbGeGRgwCX7GH2nwJcv9fKck2gfYl8wN4OtCr2ZfahA3Z+j7kuAD3+jWCd5InIDIAPQydnTwH4jog8oZT6tFLqmvpl/10p9YRS6lEA/x3Ae+p/uxfAH0Inig8C+HT9s+IglyVal/SwDMDoqFbrspIZm42e8xCN2yh5ZMPYZ1KuWfaempQ6HalKXiv7Nlw4uzRFKSrpYZI9Pgd3LIeXN7bPAVKrFX3LZIa2Z6L9mGF/Rzo6ePvdMrjLTPKa0Yvja7kmU9E3CXrZZA8rxrNZl4gISSMfAfsYr1Wxb7QuNoo+y7Y3Q8lj7vc6nPTkicgdIvIyETlDRFbXP/ukiNxW//73ReR8EblQRN4sIk/H/vbvReTM+tfXSk/CZpOLcFnNViobAJXtHbXpycube2TUSrK9dCWPXerUjsGdiUOyTWZYSl6eDQDsgxhmuWbWunR3aztXVoVkkhrNSPKYJT15c2cGAjZlicwgJm+vQ5dselmWmKfk9fbOqf5lwHyFAjvJY9oBJqEBcA8YYRObWfcUsC5PphF4efe0UtHPEyuWYa8Lu1zTByXPG1jczI7JSR2UMvu3sgwAszwDoCp5YzanaxoEAjZrQ+3Ja7WSxwxMbcsz8kgHX3vy8sa2Hb+VBy4AXGKAmeRFY5ftK2aqnMxAIErIswgTm3vKfBm6gW2nEoSWZM9Elt9woeizGHym3wC4doB5T6em9H3r7k6/hn1PWcQmYG/bW6XkAdy18XVdALND5EKSF4PFzayMj+cHSOyePBajCVCTGav35JkYLwsDQD1d0zRRKlOGkHciFUBN3KlBL+BvIGCi5NmWsLUyEGCujY3Dy9uPEds7Ps4Z31eyx/SeMqsRiEneiK2SRyR7MslBgHuKJJPsiZKcMoq+ScWTr6X4bAKP2atoEuP5quSxk7xWKnl9fXaKfh4xYNtHX8f8SfIsFqSSdYx/BObBAjbKBju4y1PybJI8UwNQktWklmvmObvOTu1Qyxx4Mzmpe1nyGHwfS01NnCmzXJMdCLDLNZnr7qv6azL3ss56elp/9famX8NeF18ZfOYrFAwUfSpBaKvkZfkNwN/eXKYdmJiYO8kxDc0g8MoQp2z7aPIs+WoH2lnJM4llWPbRQtFX0SuP8tY9JHkxWBgAIyXP10CgxcbL6mXoJgbAYqO3tCcPKO/wWpy4z65LGWdqooYxSQ2flTz2wSutVPKY5ZpAeTuQd5hONDYruIvmXabU1Ac7YHMwVc49tVLymCW4zVDyWtVvHY1fZm3YPct5CqeNCtlqEszW5zFbclpctu1teTIxxpvNObL8UlDyGlCpaOWjREmPsZLHCgTaWMmzehk6sxypWkVXrZbNyDLvKcBP8ljGq7tbGx+WM2UmBMx1AbjBXTN68sqszcxMvhrGTvLK2rBWB3eVii7rKTP3Fh+qxQ6QrJS8vBI2Zk8eUD4BnpzU5BnrpESTPVNWoW21fQTKJ8CmdsDH07bZLTl5Sp6vBwOKmMUDHh7EVhkd5d7TGOZPkgeUXhR6T54pY1pGOTFheZhKHvMVCoCVUZ+oVLKZEtt7ykryTA4vaXe2tx0braPxWXuGHdyVHT+6p3lqmI+lpi3uWQbQ/op+GRisS9sreWXGj+5pHoPP7j0rsx9N9zqrZxloX7JnwQJd7lqmf6sZVRrEZ4lWpTExoUuHu7qyx/bwWaqMjXHvaQzzK8kruSgdpuWaLJans1Oz5GX6t0ybcstsFoNG6zGbl6Eze3FMHLVtEMMiBlqt5AF2QXXe2Ezlurtbv4h5err42Cb3tKwdYJ/u1up7akuYsGwYmwRj7vcWE3jo6Sn/LJkqeWWSvIjBJyp5tHLNdibwfFHyfLRhxP4tuqJvouT52G/NrAABqARe5/i4mcARlLwG2Ch5bAafZXiZBmBiQgelGQ5vzEbJY7I8zUjyWsngswOBsoa9GX0bWWsTOVMW28ssdWIfLGCr5GWhGT15rHVvZzvAVPJsAlODdRnr6Cg398lJ7ZOIDD7Nd5gQSbYEHiseaMZ7RNtZyWNVsDB78qIDQPr60q9hChzR+L7eU1I8EJS8sii5KNSDV0weIoBrvIhjzzpq1iEdFgz+GDPJY7KazQjumIwpy9mZ1OAD5YMk5sErJmN3dengNXqhfBH4wIL7eLCAL4EAk+xhJqjEPTNeNskzWfP+fl0ZU+bAG5PTNcveUyaxCXDVX2aLAtB6G2bTG8Z8dRDTX4+N6dg0a7/39s71ZRcFMz5t9WFjQOjJazrKKnkmB6+UfUBN+lkArpJHDHprSumynrKlpkSHZMTGMhkqm+COKeWz+zZaWYNvMz4zYDcZG/CT7DFNBoKSlwwfyZ6IMGH1WJkoeWVPZjZZF5t3KzJ9hymx6WPVEDORAdq3Jy86oCyrFD8a37dkxuSekhV9b227iX0s25M3McEtNY1hfiV5Pip5Jpsc4PecsAwjYJ8AZ8HCqOc6anZ5HDMhYJZpAdz9zmTubMZvtZJnM74PLHhZ5aTF1QhNKdPyTcmLSh5NAlOSDSut5Jn4PMDKDuSersks246UkzKHdLAJE3bZdqttGIvYBPzsKza5p7bjt7OSR4rx6C1iMcyvJI+p5DE3ue34LVTyAFADAZugNzfJi15YXobtZaobpgxS2fLhiYn88mEf2TXT4M7HssT5ruR1dOgSOd8SMebY7FL8ZpyYmgciqTFetp/bxOcB3CoQJrGpFHfP+KjkTU1psjWPdPCR7PGBwGMqeQB3vzNte3e33ldlXwdFqnQwyjmCkpeAdlfymAw+W8nzTfUxcdSAnwkBc13GxnQwntdzEpS8ZLRzIMBme31UronqQGViwuxZYp4e5zP5yFTyyHbA6D15bbruVBvW369JxGq13NisthYfniUPbVhbK3kmY9sQJkwlz6Rc06avOAYnSZ5S6mql1DNKqfVKqY8l/P63lVJPKqXWKaXuUkotj/2uqpR6pP51m9VESiYzRgvOZvBt6rVNHiJmYMpuQmexsWXHN3i1xOzYLOPS26vZqaLOtJ2DjCYw+G0dCDDtgOme8c0OmNjH6FkqWB5n5DeA9lVnASpRVfpk5ibYsJYqeYCfipVpUF1G0fdhXZhkNRCUvDQw18VmfGJ5coeJkmfTVxz/t6z+GoBSqgLgiwDeCuA8ANcrpc5ruOw/AawUkQsA3ArgT2O/GxeRi+pf11hNpmQQQ62PZRsAU5aHqeT5qPqMjOSfrgmUm/vkpC717OzMvo4ZgJVlqHy4p74mSsxDNJphB0yCu7J2oNVkD5vtLbE2RiU3gB3ZwzqkwwOyx2clb5xV6cBc9yIHgLBjmTJ+yQf76KNf8mHu7arklR2/VtOKdH9/9nVlq0BMco5ofMuSTRdK3qUA1ovI8yIyBeBbAK6NXyAi94hIdPzi/QBOdvDvHo6Sm6XD9KSbkZHih3SwDUCLT9cEUC64q9XoLI+RkleGvWOX4DITAnYJrsn4PT3ljmT2wSH5GAiItL4XB/BThSTuGaMyf4DLsi9YoEt6ivolD3rygpKXgTJ7phnKBmu/+6Dk9fVpArdsqWkefEyUisR4vpG+zP0+NqZVNJNS/LItYswYMgYXSd5JAF6M/byl/lka3gfgB7Gfe5VSa5VS9yul3p72R0qpVfXr1u7evTv5ImZW3dWlvyYmig3eDAPAKhss4kyLOrzxcR3sm56AWRTMcs1mMHcsh+eDklf2heXsQKBdlbypKb2mzEMLWOteq2mH6oMNK7juHUUcNWs/Rq8UKVrS0wyyx+TgFVaLAlCeMDHtyWO3bzAJPN8S1CJEErPUlOlTfewVZ8Z4EZHb25t9nY9KHpnYNK4CcXD4SlMPXlFKvQvASgB/Fvt4uYisBPBrAL6glDoj6W9FZI2IrBSRlcuWLUv+B2wWnGUcmQESYM72+laeUaTPh8XGlh3fh2QjGp8VCLCDGCbb2wzG1CdFn83gF3lWi859fDz/ZbzAkavkMe2v6dikY+UnOjr0/S96sADTd9QJkxkSg0/1HT5UOgB82+4bYe0Dkd8MG1M2TmrlO6LLjl8kbi8jLJnmHGXXJgYXSd5WAKfEfj65/tkhUEpdAeAmANeIyGT0uYhsrf/3eQA/AnBx6Zk0oz62zEZvdQ2+j4FpE8pYaT15RRwGsxm6bO9Dq5W8suP7kFx3dmoFemws+7oyYwN8h9TOgWnZ4I4UCBRiY5nPkm8JQaTO5vSziFI6wS/6LDH3u0/JRhk7wCZ7WPud3QLhg4JattJhfDy/N6ynR5eZMlsgyggcvlQ8seJ2mxaxNlLyHgRwllLqNKVUN4DrABxySqZS6mIAX4JO8HbFPl+qlOqpf38MgNcBeLL0TGzqY5kGoNUOqatLB6esUlNPVZmg5CXgSGF7i87d9P2BgH+kRhNUcaoK2ep+P4Cr5NkkBK0mBsqMPT6uS7RabX99C9ij8Zk9eT7YgbLkY7sm18z9aNrWUrbU1IcYL4pjWCIEcz+yyzV9UPJEZAbAhwHcCeAp9j4i7AAAIABJREFUAN8RkSeUUp9WSkWnZf4ZgIUA/rHhVQnnAlirlHoUwD0APiMi5ZO8skqe6YKXPaSj1QlkND4zMGU5074+HXwXLekZGcnvqwDKM1Q+JHll7ik7EGhXxcr0/YFlx2/XdQHaV1ECqPud3lfhQw9UmRYF03kD7RuYdnXpwLroS5Z9iAeaoeT5dE8BP5Q8ZltLNL5PczcdOxIhJifzr42D2cfJ7slj93PHkHMGvBlE5A4AdzR89snY91ek/N29AF7hYg4Ayi2ICPekGx8MYzT+yAhwzDHux2fOvaNjrqTH1NjVxx/v7s5/9xWzBNemtKQdg2rT8mHAz0TJdH/5qOSZrEv83YomBEiEdi7b9kHJKzN308N0AG5pH/OeAvwWiBdfzL8ujjJ2wOQexcdvR9teZHzfqhGqVf085R0AApQn8k3iKmb8GI3vk2JVZO7RfTW5R0XH91BZbreePH9QZkEmJyGVimYT8uCb4S3K8vgUgDUhqDZW8tjKiU/Hm5uuO5vBZyfXzSBMGOMz16UZJT3M8riyJT2kdacqeUeCGsYe39e5tzoeKPsKGx/W3WbsvANAovFZvWdllbx29ansGM8HnxonTgugmUre/ErySm7EqkkfTjR+uyt5jPE9NV65L7S1GNvIAHR3ayWySElPtarLFtqxN6xo+bBPidKRoOQB/vUpmY5t8yzlHVoA8JU8JoPfrvcUaH874NO6m65L2VfY+KD6sO8pM5YJSl46mHaA/Sz19xc7PErE/OCVoOQ1oOQDWijJ803JK/IQ+RSYNoHlafnBK0DxuRfpDfOtf6uIsuwr22sC34IYn+buU0IwOqqfJRMGv0RvLvWENF/uqY+BabADdmOXGX9qSvfF9/TkX+vbPW0GgcdMUNlEfqvPXYjG9+lZYq47u62lAfMrySu5EaumdcBslqddHZJvLI8IMDaGyVa/QgEovja+lAv19gLT01BFyhB8Ye58ZHt9YPCB9lZ9yjxLxHtqXHLT16dL44o8S2xV3Jd7ygzAfLMDIu2rnBQpeWTe076+4uVxRQN2lk9txj09kpS8diWsR0dRY+YcDZhfSV53d/ETr44kJa9dA4Gi49ePHa6ZOKSyjdYsp9GM4K5AGULH+HixsX1gTNuZMGkG61hk7qbvaSozNsBX8oj31Lh5Pirp8Y3sYamzvszdNzswOalPETTp/2fbgTLPEluVYT1L7CSPSToUXXfW+OwqjaLrPjOjv0ySJd98atGcI5RrNqDoohRR8prhkIocLNAMhsqXkh5WcOdb34YvARIALFyoA1nS2NQafJ/U2SLj+8aYjo1p9pz1aok2VsWNlbwy4xdVIVn7vb9fJ/lF/RK7J49FnDL3oy/la0Dx8mTP/BI1QWX26NdqhUWIoORljG16mI5nSp5xkheUvAQUXRRflLxKRRsBn4JqpgFglsWw1TCmw2MHdwWNV6EkrxlBjMn4fX2aNfelpCdiHU36WXzcjywyBtDXmxzlD/CVvIJzNz54pcz47KDadL93dOh9W0TRZ85dhKsst/OzVGT8ohUsPiWonpE9xuOXOfCmGXNvx2otX2LfaPyiOUcRYSkoeQ0ooeQZ18c2Q7FiJQRFxy7ynqZmGPV2VfJ8NOoFxm9LJS/+bsUiY7MDdh9Yx6Lrzg7uTF9WXmZ8cqWD8SsUyozfjITAB8Wq6H6sl+JTD6Zi2QF23y/TDnjml6jxwJGSzIjo8X0gTHzcj0T7SD0HpAHzM8kruuAsJS96iHzY6MzgLirpqdU445dJlNhqmA/BXRPm7lVPHtNZ++Koe3q0AlnkHVY+7Ud2gORRcFdIyWOSPe0cmDZj7CKlpj7N3acefV/6rQFuZY9vyQxz7uPjuqfN5IC6iOwvUmrqi41pRk9eQb9EFZYaMP+SvBKJEq0+NmIdTR4iwK+SniJjVyraWDBLethlWqyeE58CpBLjV1j3tOhzWuTYYcCvZKaIwyjzwvJ2D+58IHtKzN34FQplxmcGGQDX/jKVvCLr0tWlfdPkZLHxfVE4fUo22KSDT/FAkblXq9o3sWJIXxJIwK+KqnZW8orkHGXm3oD5l+QxpVOmUQf8MwBF5u6TwyuyLtFLlosEAkwDww7uCo5P68ljOySfkpkiDgPwy+GxlRNflLwy5ZpFe/J8IR2mpvQ98oEwYd7TaHxf1r3I2GWqY3yJB8qSDj7EA2X2i+m7OKPxfbFhRf0SO5bxJfYF6HMvVK4ZlLwGMJU85kYE2je4Y4/v27qzA1OWs4vKAAuwjrSevCNpP5ZhTFnjM/d6V5cmTFglPT4FdyKoTE5ykxl2AmkamDJLn5n3NBrfF7KnyNhl+oqZdoD8LHmTzDBVa8Cv1pMyxClz7qxnqf7OX8zMmI/PVvKYJ/o3wEmSp5S6Win1jFJqvVLqYwm/71FKfbv++weUUitiv/v9+ufPKKWusp5MOyt57RrcAX6V9BwpyXWZwLEg6+iNktfOwd2RouSVGd+n0ueCB4DUOjuLleL7wlSz/RK7TMuXufv2LPmyZ4rOe2pKJ7Um7w8E2t8++jR3X+JT5rqUaYFgKnlFzwEp2k7UAOskTylVAfBFAG8FcB6A65VS5zVc9j4A+0TkTACfB/DZ+t+eB+A6AOcDuBrA/6qPVx4FGIGhoSGs+NrXcPbf/A1WrFiBoaGh7D9gl5a0u/HyxZk2o7TPp5IeUwNQYOyhoSGs+OY3cc7nP2/2bBQc3zuHxEwI2EqeT2yvT2RPkblHbK/BazeGhoaw4uyz0TU1Zf5s+KRCHimJO+BXMlNG9WFWgZBijaHvfhcrJidx+eWXmz0fzbCPLH/d7i05Pvkln2wYSckbGhrCij/5E6z49rfNno2onahIdUwDXCh5lwJYLyLPi8gUgG8BuLbhmmsB3Fz//lYAP6+UUvXPvyUikyLyAoD19fHKwzDIGBoawqpVq7BpdBQCYNOmTVi1alX2ovum5PkU3LFLepjJdZF3BkWBoMk7zwCuQ6pUir3DynDs2Wfj4EHzZwPw6576FNy1u5LnS28u81kyZHtnn40tW4o9G+2qygB+zd038tGXuVer5u/iBGh7Zvb5ACAiZs9HM2y7T4TJkWTbfXmWiuwZEUqV3OyzsX9/Md9R5iCjGJRYyIAAoJR6B4CrReT99Z/fDeDVIvLh2DWP16/ZUv95A4BXA/gDAPeLyD/UP/8qgB+IyK1Z/+bAwIBccsklyb/ctEk3K592Wua877//fkwmHLbR09ODyy67LPmPajXgpz8F3vjGzLFnsWcPsGMH8PKXm12/fr1mlE8++ZCPh4eHsWTJksOv/9nP9Ngm7zkZGwMefxy41DCH3rED2L8fOPvs1EseeeQRzMzMYOXKlcBjjwEnnggcfbTZ+D/+sV5Hk9LB/fuB558HLr7YbOwXXgA6OvDIvn1z88vCo48Cp54KLF2aP/bMDHD//cDrX282l507gb17gXPPTfz1Yff26aeBxYuBE04wG//ee4FXvcqs1GVkRI+fsx6lng2g2DoCxfbA3r3Ali3ABRfMfnTI/mvEs89q43jiiWZzWbsWOOccM6c3Pq7/X7PWoo7h4WEsGR3Vz99ZZ5nN5YkngGOPBZYtM7v+3/8deO1rzUoH9+0DNm8GLrxwbn5JtiXCxo3a6eXY01k89BDwspeZv+A8ZQ8k3ttdu7RNPa+xUCQFTz8NLFkCHH+82fX33qufjYwDSUo/G5s3a9tx+ulmc1m3TvuBo47KvzbFL6Xe2+FhfV8vushsLil+KRUGfmn2/l5wgX72Xvtas7G3bwcOHMj0S4egqF/6j/8ALr0UjzzxRL7vKOqXnn8e6OzUNtIEDz8MnHkmsGhR4q8Pub/VKnDffeZ+KcGeZsLQnpZ6PorGJi++qJWNM84wu77hWcr0GyLAT34CvOlNZmMXXUfDPTB7bx98UNs7k4RjYgJ45BEjvwQgNzY5DDG/lOs3gGJ+6eBBvcfS4vpGZMT5ife3iH8vGucb+qXSvuO++4BXvjKTwPnxj3/8kIgkGqvOzFl5BKXUKgCrAL0oqahUjN4xlbTYWZ8D0LKpiP4yCUyrVbOXtkaoVA4rF8o0SNWqeU9IwtiZMJj7RRddhOHh4eLj12p6/Ux7w8rMvavr0Pm5Gr/ImgN6DVNOSEu8t7Va8fHr/7+5MNyPpZ6NaPwya2PyNwljZ97fMnumyLNkcOrd7P097rhi61J07rWauZ2JjZ1pW+JjdxZwE0XtQEdHoh1IvLfMdTEcv/SzUfQo/yL7McEvOfMb0fhFTnk0GH/2/jKfU6D0+Ea+o4X78bD76yDWyIThupd6Ppp0TyNk3tsoLjG9V4S5H3Jvi9zXos9p0VijPncjv1F0/DL3NMUvWfsO0n608h1F1qYRImL1BeA1AO6M/fz7AH6/4Zo7Abym/n0ngD0AVOO18euyvi655BJJxZo1Iu9/f/rv61i+fLkAOOxr+fLl2X84MCAyPJw7voiIfOlLRnOZxZ/8ichHP3rIR29605vkwgsvTL5+8WKRvXvNxt6zR2TpUvO5/PEfi3zsY7mX3XPPPfqb//pfRb78Zc5cnnlG5KyzzK9///v12sfnl4XBQZFvfIMzlx/8QOQtb0n8VeK9fdvbRL7/ffPxX/5ykXXrzK69806RK67Ivaz0s3H++SKPPWY2FxGR444T2bbN7NqvfU3k3e8+7OPU+/vJT4r8wR9w5nLwoEh/f+5ls/f3E58oNpff+i2Rv/5rs2tHR0V6e83HfvRRkVe84tD5ZeGDHzSfi4jI1VeL3H672bW7doksW5b668Pu7V13ifzcz5nPpeizdMEFIv/5n5mXlH42vvpVkRtuMJ/LRReJPPyw+fUNviDz3n7rWyK/+qvmY//RH4l8/OPm1y9aZOSX7rnnHpGZGZGODpFazWzs1auN/NIsivil6elD5pLrO4r6gve+V+QrXzG//tprRb773cRfHXZ/n31W5IwzzMd+5JFZO2CEa64R+ad/yr2s1PPxox+JvOEN5nO5+WaRd73L/PqEZynz3h59tMjOnWZjf/3rxebyuc+J3Hhj5iWH3Ntly0R27DAbe2REpK/PfC5/8RciH/mI+fUf+IDI3/yNmd8w9JGz2LRJ5JRTzK//0IdE/uqvUn992P298kqRO+4wG3vjxmJzuftukTe9Kfey0r7jkktEfvazzEsArJWUfMlFT96DAM5SSp2mlOqGPkjltoZrbgNwQ/37dwC4uz6x2wBcVz998zQAZwH4mdVsDGt7V69ejf6GcpL+/n6sXr06f3zT+lhmDT6pbngWzKbcZjSgs+q1fepnKTq+4dilnw3mgTc+9eQVfYcVsyePfcgQs2/j4EG/niWD3ofSz4ZPrwpg+6WifcXd3c77imdRxj4WeedZm9n2WZDigVLPh08H1EXjF1l3X2xYX58u2TRVfcr4pSIxHrtXkTl3wj1tmu9ogHWSJyIzAD4MrcI9BeA7IvKEUurTSqlr6pd9FcDRSqn1AH4bwMfqf/sEgO8AeBLAvwD4kIhY6JIwXpDBwUGsWbMGyysVKKWwfPlyrFmzBoODg9l/6EsyMzWlnZHpC227u3VQanpKTxnj5UOQAfiXbLRZcDf7bCxbBgWYPxvMZIbpTGs13Rdi0tsK6LKY3l7zwJRJmPh0EEU0Posw8YComn02jjmm2LPhU0LAJKomJ/XzYeqXio7PJkx8OWQI4NrHIoeNFRh/9vno7TV/PtinPLIJa5a/rtW0jynil/r7zd+tyPZLzFNHfYrxDNdl9tno6SnuO4o8qw1w0pMnIncAuKPhs0/Gvp8A8Kspf7saQE4qWwAFFmRwcBCDH/4wfnrLLXj9L/6i8/ExOqoP0TAFM7hTau5BMnHAPil50dimvZDtrOR54pAGBwcxeNJJGL7xRix59FGz8duVqR4f10lbkTr8yA6YzKmMw3vxRbNr2Sd3Mvd7m6rig4ODGBwbw/Z//meccPvtTseehQdkzyyYwR0wN3eTg4Z8sjGRDTD1Sz6RPUQ1bHBwEIP/+I94/JJL8PJPfMJsbJ8qe3xJZiK/VKTXMpq7ycFXo6PAKacUG3vnTrNri+717m6tQE5Pm50v4NM9LTD24OAgBv/sz7D2Qx/Cyt/4DbPxW63keYcSjIDxy9ABf5S8Ms7UF+NV9AHt7NRfpgcXlJn7wYPmY/uknJCDu4qpWlWt6vtj+pJPwK/AtMjYRcf3KbiLSnqKlJqylGuf3hsGFL6nxi+0LTp20VL8ouOXSa5Zz2k0vg/JTNF16eoq9g4rdqVDUTswOWle2lfiWa1MTJhd61P5cNHx2ZUORZ8lZqk/M36MixCm4zPtALn0uXDOYaHkzb8kr8iC1EsexYQ5iMDciOzA1BcDUNRhAP70b/n07sOi45cY29hRR+WOpv0s9fG9Meq+ESasvd7RoQO8IiU9R5KSV2DdaY56akrfpyJ+iZmItbNt943sYdr2opU95GSmg9ln6cuzVIao8mU/lok1mAmqLzaMGYPVx6cJSwmYn0kei2EvM74vwR3gz0Znr7tnathsSQ9zfMbYCxeiwzTJYwd3PqlhAL8J3adAwJeEoLdXl/PMzJhdT547TckrW/LYjslG0fGZLHtZG+aDX2qG6sMiCJnVAs2oePLFXwN++dQj5VmK/FKBA28K+Y6iSmED5l+S1+4G4EhQ8soagHZU8rq6zN+RNTOjjUURloesLNMcdX18b4x6uyp5HgZ3tGSjiPrQhGepEBvbDAafaR+Dkmc/vm/Jtem6V6u6xLsgqWFc6l8m1mDbRyaR71N8ypr7kaTkKaWrmEzGr5cP11gEYQLmX5LHlNqj8X1Q8pqhhvkm5bMMTJGTxpiqz+houZJHYuJunOQ1I7jzKUBqZ7LHF6a6rP01Gb/ss+SLkudTYOrbfmxnn+pLhUmR8aNS/IIHgFB78sbGzKpj2tk+HolE/ny3A5OTQGcnpMghb+HglQb09ek6bBPp1DfG1BfmDvDTAJjMveixw0XGBrjEADu4Kzp+Tw9UdOKV67EBf5xpO5M9TDvg2wEgQDHChLwfCyl5PT1z6qLB2F6RYM24p774VJYdmJrSz5Mvr5YAzNe95H4slOQVmXulop8nE6XQN3W23XvygpJnNz57XRIw/5K8ItKpb8FddDNNGSqfpHx2IGA6/vi4dgBFmRIfeiF9u6dK6UCW9SyxS3DbtTzOF4dUZx0LHVpQVFEyOeo7jiJKHkslBIoreUVKTdkluEeSKt4MBr9IosSq0ihL9picKl3Sthv3czOJKt/2Y2+vPyKEj0S+yfgRWdbTU2xsX+wAU+FMwPxL8gAu28sMHru7tRMwOZLZNyWPHVQXMersA0B8U/KIgYBxkufb3KM1NyFMiPdUiXCVZea6+0aCAV4peYX6KgB/5l503aMXLJu8dsM3sscXwsS3Q12i8ZlKHut0zfr41GeJFQ80g+zxhcj3jTDxgahitiikYH4meaaLEoKYZJQ5tMAXJc+3ZAPwZz+WSfL6+vxRxYvMvVLRpIkJm0x0pj21WvkX2prAxwDJdO4HD/pnBwrsx0LlmkXGZxNVRdemo0Pv4VaXxzWjFN+3Z6mNyR4v+rk99Kl0FZJZis+qFgD44gyTyDedO5vsScD8TPKKLDjLqJd5CWc0PssAFDUuvjElrV4XgMuu+caCA6i1q5IH8Ev7DNalv1YrPnb0wnJWSY8vARI7uCMreYXKNQF/Ssx8DGJM1iUqxWcSJr6tC1M5Ye7HhQuLna7ZxmQPTZlh7sepKU2EFn1/YJHqGJ9iPF+I06DkOYIHwV30ovVCjdaAHwlqmXXp79dOmFnSwzLq3d163qZlsj4FAuQSikI9eb4RJh6se1+tVnzeHR1zJXJ58FF9aFdFv+DcSyl5rOTap75in8bu6dFkicmBNz4+S8x7anqqdMkE0gslj60sRyePFoEP1Vpl7ml3N9DRgS7WmRG+VDow/VJQ8hyBnSixjAtAZ9doRj0q6TEJTNklj0XHVoq7Nj4FdwXHr/b1tb4Xsixh4kFgWkrJA/yxA745Ux+Cu/r4NCWPGWSUKcUvMj77nhYdu0gPFJP0tbmnzKCaaNvbVskzHXt8XD9HRQ55i8ZvR9sOAAsWoNekwsS32NqXEtyg5DmCD0qexUPUcuNVZl2KjO+bkheNz0xmWKeYkY2XF0reyEjxUxgBLwxvKSUvGt8HO1B27BYfeFPathcgTEopecTTDGml+ED77kfAjxLfMnPv6tKn205OcsYnE5vUJM8HssdmP7a6sqfs3E2TPLaSV3Tuzag0YxKnrVLylFJHKaV+qJR6rv7fpQnXXKSUuk8p9YRSap1S6v+L/e7rSqkXlFKP1L8uspnPLHyokz/SlDzAj9KVsgmqL+vOMi4zM/qryLHDKHDwCpNJbmPCpClKnk/r3tmpFVeTAM+34K5IP4sIpEg/SzS+6bqXebUEm3xstQ2zCEzb1ob54JeYSl61qvuPi6rizLJEZtVQ0fF9248LFmji0mR8n5Lrjg69x1iVZj5UaaTAVsn7GIC7ROQsAHfVf27EGIBfF5HzAVwN4AtKqSWx3/+eiFxU/3rEcj4aHgR39ESJGQiwEyUfk+si/QlMw1v2nuYpJyUZfOrBK6b78eBBP5U8g7kfcUoe4MW6N2VdiqphPpA9zUiUmEE12y8xEyXf1p2shlXGx839UpHDdOrjt7xayyZO8iHGK7kf+5hKHjO59sX+Fh27yLsVE2Cb5F0L4Ob69zcDeHvjBSLyrIg8V/9+G4BdAJZZ/rvZ8CXIYDqkMoEv+yEyTZTaNTCt1cqxjsz92NWlHWTeoTEl76kXL0P3UckzdNR9R1pPnun4ZY7wNh0bKDd2d7d2pDMz+WOzbXu7thEwCbxm2AHfbJgPCWpJRb/W2Zn/ChubUvwW23a6klfGDjRhP1J78sgJKs2nMkWCIn3FCbBN8o4Tke3173cAOC7rYqXUpQC6AWyIfby6Xsb5eaVUai2ZUmqVUmqtUmrt7t27s2flA9vbDCWvXRNUH5lqk/HHxnSCV5R1ZBoAwOy+llwX6svQTevkmxEgkfYjXcnzTQ0D9H7P6z2bmtLPkU+H6Zg6Ux8VzmYkG61W8tiKftngzqTPkqnklSzFZ/vUan9//vjs8mE2ocxW8nyz7QsXtl7JY6779LQm+so8S6x+a8B8vycgN1pVSv2bUurxhK9r49eJiABI1eaVUicA+AaA94pIFNX9PoBzALwKwFEAPpr29yKyRkRWisjKZctyhEBm+YcvvWHsQIAZ3NVqvOCOKeX7GNwBZnuy5H40Pl2zzNxN6+TLsr0elDr1V6tHnqJvMr4Ng8+0vybPko+kQ1+fPqAjLwBjlw22s5Lna3Jt6pfKlA8TA1Mj3+Ej6WBKPrIVJU/3Y3+ejbF5RzSzfcM0TvKtFD8an6XkicgVIvLyhK/vAdhZT96iJG5X0hhKqUUAbgdwk4jcHxt7u2hMAvgagEtL/V80gmkAenrM3qnGdqZlNroPSl40NvMhYgWPNg8ok+Ux2e8l9yO1Jw8wW/cyZSumYwPl1t2QwacqeTMz2g6xDi1g2gEfS3BNx/eR7FFKB6d5c2cnqDZKXl7/FlPJq9V0YF/mnWfMChOT/ejjPUU9ycuzkc1I3IvOPXodVN7BMeyAvUws04QqjVwlb2Ji7mTYIvAhUfKRwAO4Sl4ObgNwQ/37GwB8r/ECpVQ3gH8CcIuI3NrwuyhBVND9fI9bzkeDyZSYvlPNx83ig5LXjOSXzZgyxgb8LNc0PV2TOXcfE4Iocc8JTKmna0brwiRMWL25ZZ9TZpkW0N6BAJHsMS5LLLNn6i9ZNuorZtkBm1J8NoHXalXcVyWPnVy3Oh6w6c3NI0zKrrtJklfWb7CVPGaMV6Qlh+WXUmCb5H0GwFuUUs8BuKL+M5RSK5VSX6lf804AbwTwnoRXJQwppR4D8BiAYwD8keV8NIowJe2YzExPaxa/6HuaipT0+Mbgt7uS1+qSnpJ7vdrbyw+qW7nuZQ8A6enRyVVOYEpV8mzKVthKHovB96G0rxlkD6sciVmNUNYvReObEAO+BXc+KHk+9iqCnOSxbZhJ0E6cuxLRxEPRde/s1Cpa3oE3zJ48Zqk8YEcQMm27pz15BfXUQyEiLwH4+YTP1wJ4f/37fwDwDyl/f7nNv58Kdt8c0wAwGfz4wQKLFmWP347JL2Dn8Pbsyb7mSFTy+vv5xstEOWElM5OTc46xKKL9ntGkbaXk7dyZfY2vLDi7XNM0EPAxUWIGMa1W8sr2swBzz+rRR6df42O1QFzRz/r/Zu6Zsnu9v18nErVatoJ5JCp5zFjGYO49tZomSyqV8uNnlfGPjADHZZ6TmIyBAfSbnD5cZl3iIkTW//d8IPL37Ss+fouUPD/BZntbncyUDQJMx/dRyevu1s5oejr7Oiar2e5KXol1mTHpq4hYx6L9LIB5EOPbfjQcv9dnJY9V0sN+ltq1pMdUWfaxf8uE2CzrN4DW24Gya16k1NS3eKBSMTv4qixBaFIFwlbybMrjmP2EOeuyoCw5GI1PVKxyX4Ze1g6YHsTGrGBpRrlmk5W8+ZnkmSzIzIxmDIqe8giYJXkeBuyFxmcFMWUfItPjzW0CAVbi7sMrFEoaRiMlb3xcq1llWMdW9+SVvaeAkR1oSk9eUVQqQHc3ulmnxzHtI1vRN507yz7aPEvsnhOWfQRar+iTyR4qcVp2rwPUqqSWK3m1mk4YfCPyDYiq0n4jGp+17kwlDzAj8XwlH9lEflDyYjBZkMgwliktYSYEbIfEVPKYwR3ATYCZyW+8LCYNZXvDALO5HzhQPsljBY5A6w2v7X7M2e9e9uQBZr0VPq67ybMEcJM8HysdgNaTYM2w7b4peUDrSQ026WtT6t9KJW90VCtDZQgT9j3NWZf+Wq38PSUrebmvULBR9E0EGh+VvEgsmpzMvo5NbiZgfiZ5JgtSMugF0HolzzK4a0slD+AGvsxypI6O/OMkxcenAAAgAElEQVTNbXrDWq3k2TJ37WjUAaM9Q31PnmXZtlHZjW89eZVK/vHmMzP6eSpTPtziXhx6onTwYHY/dhp8UPKYdqAZSh5rzzDjAYvyYeorFJqhcLZQyesr6zei8YlKHu10TcBcoPGRZMsbv1rVB+IUfeWRydgZmJ9JHtPZAeYJQVDyDkczghjflDyT8T1dF6OePFvmjlmu2eJAgKrkWTL4fSZlN6z+LeZ+j57TMlUaixbxVZms5Jpt28uSm62+pzbjz3clz4bsyVubsu88Q5NO18zqK/aVyPehJ8+CyKedrgmYH3zFrNJgkb7R2EVf0wIEJe8wRCU9WQaAzfKwGSq2M21HJY99hDfzYIFmlGmV2O9iUobAVvKYdewHDpQnewzm3sfsybOxYYsWmZXdMA8tYJUj+crgm6iQ7NK7I1XJa2WCOjOjfVMZv8QmqvLmbnFPqUled3f+K2x8tQM+9ORZ2IGWKnlRW0s7ihBsEiwF8zPJq1R083qWM7Vhedg9eSwmA2h9INCMh6hsn2Ure888VfIA5N/XoOSlgq7klV33RYuwIMtZT0/r8pKM10OkotVlMb4SeIDZ3D0ke2Z9XhZx6quS1wwVMs8+llWWTYgq23gga+4W60JN8gAzsodZrVU2menr07FphqJP78krS24ODLS2J29srPzBVIsW6f/vLNjGeK2Mk1IwP5M8oPVsb1nj1dOjg6usVwXYGEaTuZc1AK1W8prRq2iz7q1W8mwcnkkQUwbsEly2kpe1LiLlk7wmJO6ZjKxtYNrq4M7GtrMDgVaSPWXJzehVAVmKPtO22xxMZRLc2dgB0zKtMghKXjry1qYZSl6ZuUc9+hmvCqD35JWNB0zKNZlKng2hYWLbfY3xgpKXABPGlBX0AtxXBViWaWVu9MlJ7VDLMPjtzII3Q8kjMaYtV6zYCaptSU9WYEo8frxbBFWlSvWz0HtxFi3CgqyePHaAxHxWfSXwAD/KtlnJDHNdoldLlHmW2EkeO3Enn7LLmjs9yctbm2bYARLZY9WTlzf3alU/TyVfpdJfrWYr+kwlz9LntfQQObZtT8H8TfLyFsW2KbeVxsuyTCvT4dkEAf392nhkMT02DxEz+e3t1fX9WYGvrwaAHQi0UsmzqcEH8g07Ucnrq1YxVqbJGjA7WMCS1cwsuyH3Knqt5DF7z1qt5PlqB/LuqYt1yTukw8dKB1MCj7VnbJQ85isUAD/sAGnuVuWaJjFe2baW7m4INIGZinZW8g4cABYvLjc+O8kLSl4D8pQTpgGwabQGuIpVngGwcXYmrwpgH15S9p4qlW9g2tkAtKuSZ/NqCUDv5f37039PVPJ6q1WMl03yTPqKLe1A5kttfU7ygpKXjLy5RySWjV9i2QHmPe3s1P/PebY9KHnJY/us5LXKDli8WgJA7txLH9gFmCV5ZdcFwFilopPQNLCVPJvkl9WqBJjZR+arJVIwf5O8xYt5ihWz0RowYzVZLI/NJgfMSnp8VPKAfKfRroGACPc4aaayYZPIANz9nrMufTZJHsAlNUyUvLKExoIF+S8s95XBNwkE2Eoek8FftKi8X2pXJQ/gBr6tXBfA/uCVPJ9X0g5Q35MH5CcEzMP1pqb0cxSdPl0UOfd1gU1PHjnGG69Usn0HM5mxPZhqYiK7WovZmxuUPMdoV6MOcBOCvCCGnSj5Wq8N5Bt2X5O8vP04OakdUpk+S5PxfVU2AK4dyNkvVkoeQE9maOWa0asCMg4WaOsDF3y1A0zVGmhtT57t3JmBL/OemhzExlTy9u+3S/LySvFtYiVm60mLYzyrVygw1wX1JK9VSp6Laq35SORnwCrJU0odpZT6oVLqufp/l6ZcV1VKPVL/ui32+WlKqQeUUuuVUt9WSpWkRRJgYtRZPXk2TAbQ2tPjXCh5rZKs2UHM/v1+sjzs4M5UuS6DVjP4ROaur1rFWJmjniOQiYHMg1ds7UAre89cBL1pPSc2B1PFx0+DDVGVV71i4/OA+a3kMcu0bNbF9CA2G4KQFPRWe3uzn6XoMJ2yNtKkWovZokCM8fqYPXmWdmCsUtEHw6TB9xivVXbA1uflkY8psFXyPgbgLhE5C8Bd9Z+TMC4iF9W/rol9/lkAnxeRMwHsA/A+y/nMYfHi/MCXyfLYKkrMhICZ5LVSybNheYDsuddq9mUxLAMQOeo0w+vCMGbN3YLtbTmDTyzbPmKVPKC11Qg2z2mkQqate7TXy5Y8ttK2WzL4bduTB+TbMF/LtIB8v1T2pMS8sQErYlM6O3U/ZNrpxrbrYhLjsZI8sn2kKnkuyjVbqeTZkj1p9zVqa/HRDixYoJ+jLGI2BbZJ3rUAbq5/fzOAt5v+oVJKAbgcwK1l/j4XrSzXtC0bbOUrFJqh5PkaCGSNPzqqD5Upyzoyg7tKJds4NiPJK7tnfGDwSYp+X61W/nRNgH4AEzXJy9ozU1M6OC3bz8IM7oDsudvsdaD9yzWDknc4TIhNVmlf5JfK2hliT17u+L6X4medbmxDbAK5yQy1J8/24JXOztb25LFI38lJ/RyxqjRs9rtSZqeDJsA2yTtORLbXv98B4LiU63qVUmuVUvcrpaJE7mgAwyISpaZbAJyU9g8ppVbVx1i7e/fu/JnlOTyb4K63d+4EzSTYGoBWs73snjybGnxmcp01d5+DOyB7v9sy+CZlrDaHdGQ502YEAr4evJIV+NZqdowp8xUKQH5gOjBQXg1rZZLHDHoBu/3e16f7t9KUExflmiw70MoDmGxf08IkNoF82+7rYWN54/us5HV26mA/T9Evi5xkhl6u6bOSxypNBtqXwAPy93sKciMQpdS/KaUeT/i6Nn6diAiAtJdnLBeRlQB+DcAXlFJnFJ2oiKwRkZUisnLZsmX5f8Cs144aOLM2y5Il5cYGuKwm871hQPZDVK1qFr+vr9zYixcDw8Ppv2eWa/oc3AHZBsDncs28VwX4rOTllK85OV0zbfyxMU02lVWWma9QANo3uAPyAwFf7YBS2fbdBdnDsgPsUvwsOzA6qp+lMi9aB/hK3pIl2badediYbeCbRQwwk1+A24NKVvKsyjUjxSeNOLW07ZmvUIgIk7L7PU+tYtoBFz6PSfawkjwRuUJEXp7w9T0AO5VSJwBA/b+7UsbYWv/v8wB+BOBiAC8BWKKUiizryQC2Fv4/SAO7PyHLeDEDARE7w97XpxOtNBWSzeD39/vL4Ocleb6zPGn73eckD8heG2Z5Rq2mk6Wy697fP/fusQQsnJnBQZuDV7Luqa2zGxjQJUFpYO5328C01Uke2w7Y7ve0tbENevOCmOFhOyWvVeWa7RzcNUPJs7XtaWvD9HkAl9RwsS55L0Mvuzbd3fq9smnEqeWeGa9U0n3HxMQccVsGWYQGwK/SYL8+zMckLwe3Abih/v0NAL7XeIFSaqlSqqf+/TEAXgfgybrydw+Ad2T9fWnkLQiT5bFxdkC24Z2Y0A9w2ZdDR7W9rI2eZdRt19zEALDKNX1P8pjBHTvJy1KumcHdyIhdP0t08l3KfbVO8pYsSVeuHSS/VCUva880Q8ljNeezFX0XCXAryJ7pae2bys69p0eTLmmlpkd6cPf/2jvzML3K8uD/7pkkEyb7RvYNEpZAMCIi0c+WTRuXirWi6GiprUa9tNqWq62aWu2nUVy++klbbakbXoxrhQ8XVNACLlUrIHtEoiQhCWQlgTAkmZk83x/Pe/KeOe8574Q59z3nneH+XVeuzLwZnrk55zn3/tynSA9Ydq+AV/QrSORLCHQcORJt01AxTGo0bdfct69cF9tg3VqWbdut7uNVFORdDrxARB4ALqx9j4icJSKfqf3MqcCtInInMai7PIRwX+3f/g74axHZSDyj99mS8tQZLINfZiIVDN6uWUYBWGbuwHajN1OM+/bBtNy3bBwbSSBT1IZgmdUse0+tz21U1a6ZTKQaiYfzy+51aLrfJ/T1ccAyyCtzXTo6aAPGFBnrp7tzZ6XbrQOCZvvdsnsl0QFD7dIQaZ7Ea2U9MGFC7AiwdHytdPtgZ6ItuzRaefAKVNauOb6/n4NtbUNPPoKpHjAN8iZPjvuxaH2FDhbTAsdgbduWlesCSgV5IYQ9IYQLQgjLa22de2uf3xpCeGPt6/8OIawMITyj9vdnU//970IIZ4cQloUQLg4hFKTxhkCzykbSM1zmIRpMAZTZ6M2cu7KKEQZXAFYtPWUVwNixzQ9DW5/Ja/UsTxUZ/J6ecpXlZH2rtkTrhEnBtenu7uYNu3bxvx96iCVLltDd3f3U124me8nr0v2lL3FCCNx299358lnu97KV5aoHr1hdl7LnWaC6in7Z7hUwr1ybBXltbfEYRE9P/r+XtXuWZ/LGjIntfUWtfSM12ZNUhIfaNgi2QV6Bve7u7uaWX/6SSUeODN1uwOD7fYjPUnd3N+/dvJnX7d6dL1/Z69LWFvdEM1/GMtljmci3PqZQQNlKXuti6fSCrQKYOhUefTT/36yDPOtKXhljB4MbvJEa5D3+uJ1z18oZTbCtWFlX8nKSGt3d3axdu5YdtWzk5s2bWbt27VM32EbXJZHvodr3ufJpDFwo2jOPPlquop+8M6joXLHGfi/aMxqVjaLrcvBgdLiHOgAEbO2eZfcK2CY3LROb0Fy/t3IlD4plD8H2DOpIuKfD6OMlevnJw4cJlLAbYGL3Evn29fUVy6fh41m2J1sm8JLqbFFV/NFHy1c5PchLYZTJOMpgwUwZBTBtml1GEwY/c2Kl1K0VgOWksbLGrrOzuKUnMaat6ghYB3nN9nurOwI5emDdunX0ZLL6PT09rFu37qmtPZjTO0TZj0k+az1QJshLpkjm3dfDh+MU3/Hjh76+5eCVwTpMrLs0rAL3svoLRnayZ7Aqp9U5Jcsg78knY4fGUN9n2WxtKP8sJTYvz6m2vqdl7V6OzVOzG2CS7Dkm+Vo9kW+pB8aOjQm6vHPFIZS3e17JyzBxYlRSeVOAyho7sK/kVdWuaTlwQSvIswxmrF6h0N4eW3ryWk0ffzw6pWVaHq3bNYsyVFoZfKvKdQWVvC1btuT+aNHnhRjt9UHlSyb4WlXFy2Y0ofjaJHIP9WwY2E7VmzateK+XDWTAvl3T6swymCU1ANsMPtgmNwc7q2gV5GkFSkX6t2xFv6MjtvcdPNj4byOwW0vNboCJ3Tsm+TTati0T+c32o6Ue6Ompv3txqHiQl6HZu+yGo5RvdSbPevCKpXNnmeXp64tZ/DITqSzbNaH4vpY1dmD7MvQxY4pHMltX8iwzd0aVvEWLFuX+aNHnhRglewaVr+x7w8C2kgeDB3llsHTujjsuBtF5z5KGHqjqbK71mbwRmOwBok06fLhcK/5gyZ6yiYGiZ7VspQ2aJzW07F7efW11PZBj89TsBphU9I9JPq2KvlVSo1kXm8Z+L9ozlonNQRi9QR4UO75a7ZpWCiDZiHmtfRqVvKJshkYGfzgqeXmOQHJdymTwLVtLAKZPzzd4Ws5dBQNG1IK8Ikeg7LPa7L2QRi0969evpzOTbOjs7GT9+vVPbW2jZM+g8mlcl2ZJh+Go5JXBsuojUrzfH3006ogyWLZrWiY2YeQOXoHiKmdyXcrYpeHQ7UWVvLK6vcjmAezd+/RN9iSdZqnX2KjZDTCp6B+TfFqJ/Dw9kLRBlmkftq7kFe1Hy8TmIIzuIK8oq2mpGKF8VrO9PWb+iqqQVu2aTzwRneIyY9+H40xekVK3ymiCjsGbNi0atiytnsGHYoNnWeGEeL1mzBj62sn5raJnySCD39XVxZVXXMFiEUSExYsXc+WVV9LV1fXU1jY6o9TV1cWVV17J4gkTEGiUT+OeNnPuWr2SN1i21yqpoeH0WrZrJq1GeWdORvLgFY2kb1EArJXQqOJMnoYeKLJ58PSu5Ik03Nejenn69Hy9/FQoui69vfHPccc95SWPyrdgQbF81on8Vp5HAdHuFfl4FVXySvTjjACaKQCrsmzZl8ImNGvt08j2bt3a+LlWJqPIIFlmeawnpFk6vtbtmpaVa+tK3t69etWN7DoagXtBsqfrhS+ka948br76as4999yhrT1+fKzmHzzYOEjkwAFYvHho6xINdtdtt7Hx4EGWfepTA//R0tiBjsEr2u+t7tyBbSVvOJI9Bw40ni3Ztw/mzSu39tSpsG1b4+eHDsWKxxAc06Mcd1zdwc2efdbwB4pazq0HUWidySvS7a3erllFJS95N6zWnpk58+hHXV1ddG3axOYNG1h89dVDX3vyZNi8ufHzZK8PsbLc1dVF18tfTv+MGbRv2tT4A1rJHst7alnJK7J7XskzwrJds0gxln0pbELRMIo9e+xaejSuy5QpsSKYakM4imUlz/IAOugZPMtKXhUtPZYZ/MOHY4BjdQZVK9mTt7ZG+1qzF0RrPKuTJzMm791e1kGepcHT0APWjoB1JS9P9r6+GCyVORsGzZM9Vgm8JNFTxqaK2HYjTJ8ebXMWDZuX3NO8wVfWlTyNdk3LSl6zIM8qkf/EEzHJUWZQGhT7eHv30qvRLm/l43V20tbbG+1zFstKnlYXm9VQLWjJSt7oDvKs2zWtKhvQ3OCVaV8DW6e3rS3KXpTNaOV2zeOOi0FF3kRWy/MJWk5vFe2a1pWNadPKJ0wsDV6ze1p2r0OxHtizp7wemDSJdqsgb8qUuF/ynqWReibvyBGdINL6TF4z/Vj2WWpW9bFK9mjsdWiuB8ru9xkz7Gze2LExqMgLxCyPKVgmNDRGyoOtbrf28Yqqv3v30tfKiU2RGIRa7XfLAXWdnfXOgCxeyRuBNDN4VpkSjSljUKwArCt5Za8L2Bo8SwXQ1lZ/n10Wy/MJlu2aR47E/x+NYT3D7dxptGqCrcGbMQN27278XEsPFCl2Dcd38mS7IK+9Pa5R1MI2Etu0Hn886ocyZ5bBtpJnmdiE4urDSNYDrV7Jg+L9rnHdradr7tvXWIXUeG0Q2OsBq+4VaNqt1WsV5GkEvxCDPKv9XtS9snv3gNbWITEcFX0rH2/ixFhFzhvI2ITRHeRZGryZM/M3uUbbCthW8orakbSCPEuDV6TUNRQA5Bu8/v74cJUNlCzP5CVntrLvDDpwIDqmbSUf9WZtiZaDKKydu7J6YMaMavSAUiVvTN57GzWq1pBv8JJJp2VedQLVBHla12WwynUZLBMaUGz3LF+hMByVPCs9oFnRL0r2lLV7lu2aY8dG25R9njT2OtgOXilKnA5HJc+yXVNBD/QVBXka16aoXVNLD1j6v80S+WX1QNFAxryqZIrRHeRZKvWZM/Mz+Nbtmq1+Jg/yDV7SnmF1KFfD2EG+wTtwID5cZQMlSwUA+UkNrQx+UYZKY78XvTJEM8izqug3c+6s9YBGJS/vfW2ayZ7snkmc3rJtg82SPWWvy/jx0XBmX7uh6dxZt2tmKydaur2Z3bM8k2fp3GnogWZtWkaVvDEhRNvUypU8yE9uagV5lsmeZgk8y0re3r12lTylZE8llTzNZE82UDp0KPofZV5WDrZHciB/vxedea1RymsVkekicqOIPFD7u+H/QkTOE5E7Un8OisjLa//2BRF5MPVvq8rI04ClczdtWlw7G0WPlDN5ViPlIb9dMzmsXOYdJ1Cc5dGq5OW1aGhWNqwy+JC/37XWtkxqtLfH656nvDSCvKKKvlayZ7gz+L29cY+WXb9ZJc8qyNNMaOTp9l27YNascmsnA2+yekbruli2a44fDyKMy2uP0wryrBxfy8QmFNs9rTN51u2amWszua8vXpeyyUfLSh7kJzc1gzzLDpPHH7dN9lRRybNq1+zt1RnuNBw+XvbaJDqgbPLRcvAK5Nu9PL8sRdlK3ruAH4YQlgM/rH0/gBDCTSGEVSGEVcD5QA9wQ+pH/ib59xDCHSXlGUgzBaBx5iQvE2OZwe/v18mYWp/Jy2vXtD6boNmumXUENJ07q35tyL82O3fC8ceXX3vWrOhAZ7FMaoyEM3lJsic7YESrXTPP4CXBQFnnzvJMHhRX8iwz+Fp6IG+/j4RKHsDkyXRmk49a97Qo2aNh9zo761NA01i2aybtw2VezwC259Ahd79P6++3c3rBNqlhmdgEnWRPW1u+L2NZyQthZFTypkwpvi4ak+Wt27atfDzLwSuQb/fy/LIUZYO8i4Cral9fBbx8kJ9/JfDdEEKOZ2FAkQLQcnzzDJ7mWZysAti/PyrkMSVfb5icOclr6dGq5FkFeZaHcqFYqVu1rYBtVlPD2IF9kJfnCIyEM3nJgJHhTPYoGrthD/JGQiUPon3YuXPgZ9ZBnkYlD2DyZCZkgzwt/Zhn85JzwNl3OT5Vil4ZYqkHSr437ChJAi9rUw3t3tS+Pr2ERlGXhqUesEz2WCY3LRObTzwB48YRynY8dXTEvZhNmCjp9t4pUxr3jHZCI/ssaQZ52T1jeQ4dbPe7cZA3O4TwcO3rR4DZg/z8JcCXM5+tF5G7ROQTIlKyITZDntMbgn2QZ+ncaRi7MWOiEsg6eJpn8orO4pQlmTCUrZxonMWBuC927Bj4mWXbCthmNS2DvBBGbiXv0KGYxS87TAfskxpWQd7UqYy1al+Daip5lvtds7KRvae9vTrvhASYMoUJWf24YwfMHsw8HwPNbF7ZQAnMkxqFbVplGTcuVgOzz5NhJU8tyMuzeWA7aMh68IqmHrDy8SwTmyL510Yp+Zg7eEVrr3d0xORp9ry4VqIqz14PRyXPKrlZNsgTkR+IyD05fy5K/1wIIQA5b+s8us5cYCXw/dTH7wZOAZ4NTAf+rsl/v1ZEbhWRW3cN8j91lDyn94kn4gNQtm8Y4oYbziyP1gF0yL82WhuxqF1TQ6m3teW3l2gNXpk9uzGDr6UApk5tfHdYCCOjXTNvrx88GO9H2cPKMPyVvMTp1XBM884pabZrZu+pYpDXlrxwPs1IruRpOQLDXclLrovGfsxr1xwJiU2wtXt5rc9Jd4wGlnYvR/apWu2ayV636uwZ7sErSRJYI4FXhY+nYfOgud0rSe6ZPC2bB/kVfS27N3t2fiJfY68nLedZm9rKlbwQwoUhhNNz/lwH7KgFb0kQt7PJUq8Crg0hHD3FGkJ4OEQOAZ8Hzm4ix5UhhLNCCGfNOtYMjeEmB/INnnWblpYCmDWr0Yl55BGYM6f82paVDchXAJrOXVYBaLWttLdHw5OS/bgjR+ovuy2LdbumtXM3nOc2NPVA3rvyRkK7pgiHp03LN3hWE1m1nN6JE2OmNx3M9PToOXd5+tG6sqHo3E20quQV7XVN3W5l9/KcO209YNXBkmPzpmlV8iZOjMmF7BAmLbs33INXdu2KdlwjYWJ9Ntc6yMvaPSUfLzfI07J5kJ+QGQlBnkhjUqOvL9oqDbtUQbvmN4FLa19fClzX5GdfQ6ZVMxUgCvE83z0l5RlIngLQymiC7Zm8IgWgVcmbOzc+8GkeflgvyLMydtCoAA4dipkTjYe0qJKnpbwyCmBSf7+OsYN8pa613ydNiu2N6QyVlhMAtgYv7zl95BFd52442zW1EhoQg7ysHtDaM5aVvLyKfpLQ0HDujj8+37nTzPamz8tonccDmDJldFXytJy7OXOijUvzyCPRFmowzAPH1No1oTG5GYLetO3hHryildiE4uSmVmdP9rpoJvLzEtZKdq8wyLNK9vT36yUIZ89utHl79ujp36zdS4LfsoPSoHi/N6Hsb70ceIGIPABcWPseETlLRD6T/JCILAEWArdk/vtuEbkbuBuYCXywpDwDSYKBdBvCcAR5I6GSZ2nwLI0dNBq8xAnQcO7ysjy7dukF15ms5mTNIK8oy6Nh8EQas5rWlTytIG/ePNi+feBnO3boJDQgP8gbCe2awOHp0wfu976+qNM0AmDLSh40XhvF4Ne0XVOk0fHVrORNnx7H66fZsUPH7k2ZEis+6bHylnqgNm1Q5doUJTa1grysHjh0KD5PZSd3Qn6Qp9WuCY3Jzf37YzKi7JA3sB28MmlS4xl9bR/Pul0z7Z9qVvLmzWv08ZTsXu50TcturX37YoCjsR/nzGn08bZvh/nzy68NjftdK7EJ+YUry1cohBD2hBAuCCEsr7V17q19fmsI4Y2pn9sUQpgfQjiS+e/PDyGsrLV/vi6EkPOylhIcd1xUVOkLrqkALFvYau9ra8sqAM1KXloBPPlkbHfSULzD0a6ZDoCtnbtt23QVQMqJUQ3y8hIDSeuKBlmDp+ncWVbyZs2Kax8+XP9Ms5KXdyZvJLRrAr3ZSt7OnXFtS+fOKtmjncHPOnea7Uh5QZ6WHpg3j1nZqXo7d+rs97yx8prXJbvfe3ri79QIlPISm1rdK5Cfwdc6Z5l3Js+ykqdp8ywreW1t0flPXxtNm2fp43V0RD2bHoCnHeSlk5uHD8fqrML6fclE6bR/qukPZPe7os3LTeRv3x6vlwbZ/W6Z2ATzSl7rM38+bN1a/36knMmrKa8Bo7A1K3nZIC/J8GgYpAkTYmYtPR3JspKnNVkT8hWAdpBnVcmbO7exYrVzp13riuY9zSrG/v6YsdJq7Tv++IHBjGUl7+DBaPzKjpQH8yCvoZK3fbtu+5plJS97bTSDvLxkz9atenogW7HSdO4WLBgY5B0+HF92rXXds3ZPe+CClXM3dWq8FumzZ5rtmlk9YHwOXe1MHjTu923bYMECnbUtK3kQn8lt2+rfa9s8q0oeNO53TT2Q9QeS66LQNhjGjIkFlGy1bSQk8vPaNTWDvLxKntZezzvf+rQP8hYsGBjkWbZrao6UB5g6lYnpIM+ykqeZ0UwOn+ZlNTXIa9fUUgBTp0YnIO0kGWY1J/f3612XhQvhoYfq3/f1xeukOawnrVA0r0tWqSdT79rbddbPtq5YDl5JnF6NhEnegBHNIC9bybPIaB5JNXBoVvKyToymI5Dn3D30UHzGNLCs5M2fz8y0/lJ07oD8IG8kOL0ijS2bmu2a1jYvk+xRDfKy7ZqaCQ3LSh402uH+tswAAB4eSURBVD3Lds0Q9AbUQeO1sWzX1JQbGu3ecBzJ0WDSpHgfD6QaB7dtswvyNK9LNp4JwbZdc0SQl+WxCvJ2747Zjc5OnfWzQZ72mby0sdPMaIJtVjNbldF07traBjp4IYycSl7W2O3eHX+fVqCUdXw3b4bFi3XWtjR20Ni6Yjl4RbN9LW/AiObglbxKnpaxGzs26sL0u8M09cDixbBlS/17zUre9OnRyUj078GD8XutPZO33zWDvHRrsqbNg0a7t3273nWxrORBo92zPJOnudeTICx19kz1TJ51u2ba6Q1Bt6KftXuWg1d27YqtwxqTEsE2qWFp86Bxv2tX9NP6UVMPiDR2bFmfydPa64sWDbR5+/cP2jE0+oO8bOSrdQAdGo3dpk2wdKnO2jByK3nQOGFT0+AtXQoPPlj/XjPIg4EG77HH6i8W1SDj3KlO15w2LQ5ESAICTWMHjVnNLVui0tHA0thBo8HTbNfMnsnbvl33WcomNSwreQ8/rBfkga3BW7w4JhoSNPd7e3uUM9HvW7fG66JVDbMcvJJU8pLzMppVa7C1e3l6QDPIy9o9zeqGpc0bPz5e91rCelx/P2NC0As2spU8zXbNZFhPEqAeOBBfHj9unM76CxbYVvJ2764/S5qJTbCv5FnZPGgM8pLz3BrMnTuwOKPt46WDvAMHot+kOUHdSg9Mm1bv0IJjsnmjP8jLq+RpGbzJk2OGN2mNefBBWLJEZ22AmTOZlp5iZnEmL1Fe2qX87OH8bdv01rcO8tIGTzOjCY2VvL4+PadXZGBWUzuDn81qeiUvkjV2v/0tnHiiztoQ1/rtb+PXIagGBIenT7dr14SB+127nX3RooFBnkWyJ0lqaLZqgm0lr7OTg+3tTEucaotKXnq/P/igXpB3/PEDgzBNmwcDh68cOBADD60EXtbm7dihux9Tdm9KXx/72tt1WsKh8UyeZrtmdjiKZqIH4nOZTuRrDl7p6IgBdpI41Q7yLJObyRTJpF1e28fL6oHf/haWLdNZO23zQL+inz6XlyQ2tZ4ly8SmyMAOlt27PcgzPZMnMtDB067kLVvG/PTwEk0FMHFizFYnysuyXfOxx+IfLecxL8jTVgBJlkc7yMs7k6dt8JIgT7uSl9euqVXJmz49Grukcm0Z5B08GP9oZdeSvZ4kTCyDvP37Y7uQUha84WXolkHerl3R2Rs7Vmdty0oeDHwhunWQp1nJA3Z3dHB8kiC0rOT190f7quX4Ll8OGzfWnyVt5y59Ji9p1dRy7rKVvN/8Bk46SWdtiHZv0yYApvT28qjGBNyEbPuaZiUPBuoBiyAvW8mzsnvaQV62YqVp9zo6or5NnlVtPZD28fbvj1NCtdY/8UT43e/q32v7eOnXKFjaPNB9BRcMbNn0Sh4Dg7y+vuhIal7wtMHbtEm3knfyySxKxuv29cXMo5ZjCgNbVyzbNR94IGZ4tFqd5s6tKxXQHbwCA9s1NTOa0KAAju/t1Q2us0GediUvMXY9PfGslWbGdMGCejBjGeQlxk7LuevoiH+Ss2faQd6yZdHxBXWnt3/ChKhbkomDmtM1YeB+37ABTj1Vb+0ko5kEBNpBnmUlb86cgZVlzUoesGvcuHqQp13JSw9c2Lo1XvOODp21p0yJCcjk2mjrgbTNs+5e+c1v4OST9dZfsqReyevtZZ9mkJc3XdMqufnII7r7MW3zQtAP8tLHFLSDvFNOiXoRouzaSY203bMYvJLs98TmadnUuXNjYSAZjqLt46WTGtZB3q9/He+zFukOFg/yGNiuqT2IAgYGedrtmiedxIKkkvfoo9EAagVKMLB1RbuSlzZ4Dzygm9Fsa4sbvZbVNG/X1Mxozp5dV7ohsOzgQVi5Um/9bLumVUZzy5b4uzT344oVcN998WvLIE/7ADoMNHgbN9pV8rT3evYQuqXB0w7ypkyJujxxHrWvTbqSt3WrbpB3+ulwzz3x6xDUz3EOWyVPs1Uz4aSTYoAEtoNXNIeuQAxk9u+vt8dZVPLSQZ6mH5MMGurtjcdP9u3TDcTmz687pvfcE/e/FkkiP5mYmIz31yJ9TGHzZl0f79RT60Hek09GfazxTsiE9ARi6yBPq1UTol+xdGm9mmfZrmlh85LrEkL0aVas0Fs/3a7pQR5R8SYvgdTOaEJjJU/T4J18Mgt7emwyPNDYumKlALSNHQxs2bQcvKKd0Vy+PCqV/fuZfvgwAXQdMMtKXnqvb9mim9GEqAgTg7dxo14rKDRW8jT3Ogxs2bRo1zSq5AF1x7e3NwZk2ln2xFBrGzuoZzW1XxcCtpW8U06J1+XQobhfpkxRva+70kGe5XRN6yDPcvCKdpDX3h4n4e7bFx32Rx7R1ZGZdk3VSl57e71Cm1TzNRN4z3wm/OpX8eu77oIzztBbe8KEGBjt2WPj41m2a556aqz0hBBtquZ+hIGvUbBo10z0gHZiExqTmyOlXXPevLgPe3qiDhg7Vtc/zbZrDrL26A/yROrVPM3Jmgnp6UubNqkqgO7vfY8V/f3cedddLHn+8+meNEltbaBu8I4c0R1IAzHbdf/98esHHojBjSbpLM9IGrwyZgyccQbdH/sYP7ztNmb297Nk6VK6u7t11res5CXZ3v5+3fN4CaeeWq/k/fznsHq13tozZsQs78GDdpW8Xbuio9HWphtsLF0a72lfn35/P9QreUkblWaF4DnPifcS9Ct5UM9q7tkTE3qasmfP5GlW9Ds6ohOzYQPcfjuceaba0t3d3fzVtm28dccOlixZQveGDSO3knfffXDCCXprpyt52t0rEGW/++7o9J5wQtT3WtTaNbu7u/nAgw9yyZ498f5q2Y6kZXPrVt29DnF/3357/Fo7yIO63bNO5FtM1+zsjH7Gz34G55yjtzbYtmvOnFnXjxs36lbyYGCQN5LaNcePh9NOi/v93nvtEpvglbyjLFgQHyKrLM/DD8cNM2mS2kjj7u5u1q5dS3KcePPu3ay9+249hQ71IG/Pnii71rkKgOc+F+68MzrWlpW8vXtjgK01ShpsK3lA96RJrP3oR3mst5cAbN68mbVr1+rc20WL7AavtLfHM6F79ugbO6i3a+7ZE6+/ZkCQvAg5eVa1K3mrVsVgRvtsAkSjcfzx8b7+9KfwrGfprQ11x1fb2AGcfXbM4B8+bBfkbd6sn+iBgeeUtCt5ENu0774bbrtN7Z4mdmNfX19dtzz0EN0//anK+kA9+D182DbIe+ihmFTSdJJmz457pb9fv3sF4Nxz4eabbWzewoV0b9/O2rVr2VObnKpqOxLH18DmHQ3yentj8ve003TXT4I8bZsH9Upe0s6qmcCDesvmz36mm9iEervmk0/GrgGtycZQv6cHD+q3a0I9yNuyJT6vmr57ul1T80XoCUly87779Pe6t2vmMH9+zE5pV6sgKvVvf1v9PN66devoSQaL1Ojp7WXdunVqv+Oo06ud4YGYnXrWs+DHP44GT7uSd8IJ8Zpfey28+MW6TrVlJQ9Yd/vt9KRfjQH09PTo3NvE2IVgU7letCieqbBo1zzllOgA/Pd/w7OfrVuVgXpW06KS99KXRj2g3aqZcOKJsSJ+/fXwkpforp04d9pDVyBOdzvhhKgH9u3Tr/4mQd6dd+oHG0kw88QT0UnSDiLPOCNWNW67Ta2Sl2s3gHUf/7jK+kBMCD7zmXDjjXZB3v33w003Rfuq2TY4Zkx00nft0m/XhCjvTTfZBHljxrAOGu+vlu1Ikhra59ChPqL+v/4r2ijNM3NgW8lbtiw+o0liU9PXgIFB3nOfq7t20q6pPWwM4nO0ciXccottu+a3vhV9PE1/wLKSB7Ei+4tf2BxRmDcvyn74cNQzg/inT48gLzmY+9Of6iuvc8+NlYdvfUs1yNuSfqv9MXw+JJLBKxbGDuD88+HrX49faztISSXvK1+BSy7RXXvWrFgh3Lw5/q0cEGxJT15Kf65xbydOjBXZa66JWUfNVieAN74RrrjCpl1z0qS4T776Vf22FbAN8p773Lgff/xjmyBv2bKY0Bg/Xt95TOsBbWMH8V5+/vNx0qCmww711pUrroC1a3XXXrkyBtbf+160G9rO3cqVMci7/Xa1Sl6h3UiPmNfgta+FL33JJsg78cR4T2+4Ac47T3dtqO93i3bN5z0Pbr013lfNyZo1tiTvPsx+rmE75s+Pjqn2RGmIz86ZZ8IXvqDfqgn1F6J/8Yv6tuOlL43n5q6/Xj+xCTHI+/nP43Ef7WuTtnnaiXyIwdc118TquLZvnQR53/wmvOxlumtPmlR/b6tFkJeu5GkHeWPHxnv57/8eO6ue8YymP17K4orIxSJyr4gcEZGzmvzcGhG5X0Q2isi7Up8vFZFf1D7/qojovPwpy4IF8KlPxaj3rW/VXbutDV73OviXf1E1dosKHOiiz4fEvHnRIF12mb5ShxjkfeUr0SnVdpCWLo3Z3ltvjYpGk7Fj4f3vh9/7Pf0zSsCigrYvtXu7cCG85S3wkY/otuACXHpprLT96ld2Bu8b37AL8v7hH2LG9NnP1l17zBhYsyY6GVaVvC9+Ub9qDfFaf+Mb8MlP2gR5q1fH9bWNHcQ9+IMfxMrMH/6h7trTpsX98pa36LdqQnTobrklDo1QSjoMi90AuPhi+M53onOnbTs6OuKa11xjE+TNnw9velP0Bywq16edBtddp5+MARZNmJD/ucb9veyymKz++tf1HXaIQd6119oEeQsXwuc+F4dd/Nmf6a49bhy8+c1w+eV2Nu/aa2OiR+sdoglz58YA9bWvhec/X3dtiPbo6qujP6bdebN4cUw4/Oxn8MIX6q4tEnXYOefEa6553AeivX7ySfjlL23s3qJF0Tb97d8O6g+UTaveA7wC+FHRD4hIO/CvwIuAFcBrRCT5v/4I8IkQwjLgUeDPS8qTz+LFsW/4uuviJCZtXv/6OL1TsZK3fv16OjMtDZ2dnaxfv17td7BiRXQcr7gC/umf9NZNeM5z4t/arZoQHbBx42KWTXPkcMK73hUrhNp95sD6D32IzkxFQ/XeLlwYs8gXX6yzXprOzuj0Pv64jSOwYkV8Vi2CvAsvjEZpwwb96gPEvdjTYxfk9fTot2pCdL7uuy8GSeefr7/+6tXxnmqfx4Oo2/fvh3e8Q9/JgLjX58yxCfIWLoyVWcUzlsNiNyB2O6xeHf8fLK77SSfF80Oa75dK+Ld/gw9/GL77Xf2KPsTA9MknTYK89WvWkG10VLu/s2fHIO+xx3RfE5Bw5pnxXJhVkLd7N3z60zb78c1vjvrXKsg7eFC/VRNiQuPSS6Ofp9mynbBqVUxsWNi8jo6oe1evjpU3bb7wBfj7v4dXv1p/bZHo/3Z26rcPQwzypk+HP/7jQX+01OinEMIGAGkeSZ4NbAwh/K72s18BLhKRDcD5wGtrP3cV8H7g02VkyuUlL4lOjIVCh/iQrl6t6sR0dXUBsO4972HLli0smjOH9R//+NHPVWhrg4su0lsvy7hxMXtkYOwQiYHMa187+M8Odf2PfCT2PSvT1dUFV13Fup/8hC0HD7Jo0SLWr1+vd28vu8ymvSzhbW+LPfjaVUKIQd6yZfrtvRBbPrTbPtKsWRMdDIPEAMuWRYPx+7+vvzZEQ2ThBEB8/qdNswnyZs+GF70I3vAG/bUhVmi/+tX6y+I1EYktm4pB3lG7sW5dtBsLF7L+Qx/StRsJr389aA4CS3PSSdGJsdBhixbpt5qnOffcGGwYOHddr341PPAA6/bvj/dX23asXBnbBqdN01kvTXLu1CLIW706JvG1OzQS5syJiSSL9efNi0GM9tAViPrrn/9Zf90Ekah/J0+2WX/5cv0OjQQR6OqKfyw455yYMLHQYWvWwMtffkzTexXn+xYyH0gfCNgKPAeYAewLIfSlPi/s+xCRtcBaGEJrQlubXYCX8OMfq2eQurq66Orq4r73vpcV73+/TYbKmg9/WH8aVcIPfmCT4UkzzqaDuOuDH6Rr925u7uzk3HPP1V3cohqTZvbseB7HgjVrbKrtw8H06bGN1aLCuWoV/OQnsfIz0mhri50CFgFqW1s8K2OJRbtNwjveoR78Jnbj5ptv1tctaV7zmuhoWPCWt9RfKj7SOO+8eAbVwrl75SvpuugiusaNs7u/VvZ6yZJ4DMKiGjZ+vF0wkGCVBBOJ+tGiNXk4+MAH7Nb+j/+wmRcxHFxyCZx+us3af/Inx/yjgwZ5IvIDIO/E5roQwnVPQaxShBCuBK4EOOuss8Jw/d5jxjAA23nBBawYiQEeqL7/qQGr7NFwcPbZ8e+bb65UjJZjwYLoPI5UVq60WVckTjQcqfzpn1YtQWti0VI9XIjoT0lMsAysrenogFe8wmZtEbPEozki8L73VS1Fa/LGN1YtwdCxmOeQYHGsYrhYvtzmqNJTZNAgL4RwYcnfsQ1IH2hYUPtsDzBVRMbUqnnJ547jOI7jOI7jOM4QGY5XKPwSWF6bpDkOuAT4ZgghADcBr6z93KXAsFUGHcdxHMdxHMdxRiNlX6HwRyKyFVgNfEdEvl/7fJ6IXA9Qq9K9Hfg+sAH4Wgjh3toSfwf8tYhsJJ7R+2wZeRzHcRzHcRzHcZ7ulJ2ueS1wbc7n24EXp76/Hmg4HV+buHl2GRkcx3Ecx3Ecx3GcOsPRruk4juM4juM4juMMEx7kOY7jOI7jOI7jjCI8yHMcx3Ecx3EcxxlFSBxyObIQkV3AZsUlZwK7FdfTppXla2XZwOUri8tXDpdv6LSybODylcXlK4fLN3RaWTZw+crydJNvcQhhVt4/jMggTxsRuTWEcFbVchTRyvK1smzg8pXF5SuHyzd0Wlk2cPnK4vKVw+UbOq0sG7h8ZXH56ni7puM4juM4juM4zijCgzzHcRzHcRzHcZxRhAd5kSurFmAQWlm+VpYNXL6yuHzlcPmGTivLBi5fWVy+crh8Q6eVZQOXrywuXw0/k+c4juM4juM4jjOK8Eqe4ziO4ziO4zjOKOJpG+SJyMUicq+IHBGRszL/9m4R2Sgi94vIH1QlY0qeZ4jIz0TkbhH5lohMrlqmNCKySkR+LiJ3iMitInJ21TKlEZGv1mS7Q0Q2icgdVcuURUT+QkR+XduTH61anjQi8n4R2Za6hi+uWqY8ROQyEQkiMrNqWdKIyAdE5K7atbtBROZVLVOCiHystu/uEpFrRWRq1TKlaaanq0RE1tTsw0YReVfV8qQRkc+JyE4RuadqWfIQkYUicpOI3Fe7t++sWqY0IjJeRP5HRO6syfePVcuURUTaReRXIvLtqmXJUrOxdyf+QNXyZBGRqSLynzW9t0FEVlctU4KInJyys3eIyGMi8pdVy5VGRP6q9lzcIyJfFpHxVcuUICLvrMl1b6tctzx9LCLTReRGEXmg9vc0q9//tA3ygHuAVwA/Sn8oIiuAS4DTgDXAp0SkffjFG8BngHeFEFYC1wJ/U7E8WT4K/GMIYRXwD7XvW4YQwqtDCKtq8n0DuKZqmdKIyHnARcAzQginAR+vWKQ8PpFcwxDC9VULk0VEFgIvBLZULUsOHwshnFHbf98mPiOtwo3A6SGEM4DfAO+uWJ4suXq6Smr24F+BFwErgNfU7Ear8AWi7WpV+oDLQggrgHOAt7XY9TsEnB9CeAawClgjIudULFOWdwIbqhaiCefVbEXLJGZSfBL4XgjhFOAZtNB1DCHcn/JVngX0EH2+lkBE5gPvAM4KIZwOtBP95coRkdOBNwFnE+/rS0VkWbVSAfn6+F3AD0MIy4Ef1r434Wkb5IUQNoQQ7s/5p4uAr4QQDoUQHgQ2EjdNlZxE3cm5EfjjCmXJIwBJdXEKsL1CWQoREQFeBXy5alkyvBW4PIRwCCCEsLNieUYinwD+lrgXW4oQwmOpbyfQQjKGEG4IIfTVvv05sKBKebI00dNVcjawMYTwuxDCYeArRLvREoQQfgTsrVqOIkIID4cQbq99/TjRyZ5frVR1QuRA7duxtT8t88yKyALgJcTkr/MUEJEpwO8BnwUIIRwOIeyrVqpCLgB+G0LYXLUgGcYAx4nIGKCT1vH3TgV+EULoqdm0W4gJwkop0McXAVfVvr4KeLnV73/aBnlNmA88lPp+K9UboHupOxEXAwsrlCWPvwQ+JiIPEatQrVYNSHg+sCOE8EDVgmQ4CXi+iPxCRG4RkWdXLVAOb6+19H3OsrVgKIjIRcC2EMKdVctShIisrz0fXbRWJS/NnwHfrVqIEUAr2ogRiYgsAZ4J/KJaSQZSa4e8A9gJ3BhCaCX5/i8xoXWkakEKCMANInKbiKytWpgMS4FdwOdr7a6fEZEJVQtVwCW0WEI6hLCN6ONtAR4G9ocQbqhWqqPcQ/SjZohIJ/BiWs9XTpgdQni49vUjwGyrXzTGauFWQER+AMzJ+ad1IYTrhlueZjSTleh8XSEi7wW+CRweTtlgUPkuAP4qhPANEXkVMUt2YavIl7rXr6EipTnI9RsDTCe2Lj0b+JqInBCGcfTtIPJ9GvgA0Xh/APg/xD05bAwi33uIrZqVMdj+CyGsA9aJyLuBtwPvaxXZaj+zjthG1z1cciWMJD3t6CEiE4nt83+ZqXZXTgihH1hVO6N6rYicHkKo/IyjiLwU2BlCuE1Ezq1angL+Vwhhm4gcD9woIr+uVTNagTHAmcBfhBB+ISKfJLbKvbdasQYiIuOAl9FiCfNagvciYrC8D/i6iLwuhHB1tZLFrg8R+QhwA/AEcAfQX61UgxNCCCJi5uuN6iAvhDCUQGMbA6P/BbXPTDkGWV8IICInEVs1hpVm8onIF4lnBAC+TgVtJINdv1prwSuIfe7DziDX763ANbWg7n9E5Agwk5hxrFy+NCLyH8RzZcNKkXwispJocO6M3bgsAG4XkbNDCI9ULV8O3cD1DGOQdwzPxp8CLwUuGM7EQsIQ9XSVVGIjRhMiMpYY4HWHEFrqjHSaEMI+EbmJeKam8iAPeB7wMonDr8YDk0Xk6hDC6yqW6yi1ag8hhJ0ici2xvblVgrytwNZUZfY/MTwPVYIXAbeHEHZULUiGC4EHQwi7AETkGuC5QOVBHkAI4bPUWnFF5EPE+92K7BCRuSGEh0VkLrFjwARv12zkm8AlItIhIkuB5cD/VClQLSOGiLQBfw/8W5Xy5LAd+P3a1+cDrdYOCVE5/TqE0IoP/f8DzoOjQfw4YHelEqWoKaGEP6I1nB0AQgh3hxCODyEsCSEsISr1M4czwBsMEVme+vYi4NdVyZJFRNYQW79eFkLoqVqeEcIvgeUisrSWcb+EaDecY6B2NvqzwIYQwj9VLU8WEZlVq+AhIscBL6BFntkQwrtDCAtquu4S4L9aKcATkQkiMin5mpicbiV78QjwkIicXPvoAuC+CkUqorKuo0HYApwjIp215/gCWmhwTcpXXkRM6n+pWokK+SZwae3rSwGzjpVRXclrhoj8EfDPwCzgOyJyRwjhD0II94rI14gPfh/wtlrrRpW8RkTeVvv6GuDzVQqTw5uAT9aqZQeBVuvDhxbsb0/xOeBztRG7h4FLq6ioNOGjIrKK2K65CXhzteKMOC6vORVHgM3AWyqWJ82/AB3EtiqAn4cQWka+Ij1dpUwhhD4ReTvwfeJ0uc+FEO6tUqY0IvJl4FxgpohsBd5Xy3C3Cs8DXg/cLfXX2bynhab2zgWuqk1RbQO+FkJouVcVtCizie2tEP3LL4UQvletSA38BdBdS9D8DnhDxfIMoBYcv4AWtLO1Ftf/BG4n+se/Aq6sVqoBfENEZgC9RN+98qE6efoYuJx4LOfPiT7Bq8x+f2v5ko7jOI7jOI7jOE4ZvF3TcRzHcRzHcRxnFOFBnuM4juM4juM4zijCgzzHcRzHcRzHcZxRhAd5juM4juM4juM4owgP8hzHcRzHcRzHcUYRHuQ5juM4juM4juOMIjzIcxzHcRzHcRzHGUV4kOc4juM4x4iIXCMiHxSRH4nIFhG5sGqZHMdxHCeLB3mO4ziOc+ysBPaFEH4PeCfQVbE8juM4jtOAB3mO4ziOcwyISCcwBfhE7aOxwL7qJHIcx3GcfDzIcxzHcZxjYwVwWwihv/b9GcA9FcrjOI7jOLl4kOc4juM4x8ZK4I7U92cAd1Uki+M4juMU4kGe4ziO4xwb2SDvdLyS5ziO47QgEkKoWgbHcRzHcRzHcRxHCa/kOY7jOI7jOI7jjCI8yHMcx3Ecx3EcxxlFeJDnOI7jOI7jOI4zivAgz3Ecx3Ecx3EcZxThQZ7jOI7jOI7jOM4owoM8x3Ecx3Ecx3GcUYQHeY7jOI7jOI7jOKMID/Icx3Ecx3Ecx3FGEf8faBX+ZkEkXk8AAAAASUVORK5CYII=\n",
                "text/plain": "<Figure size 1080x252 with 1 Axes>"
              }
            ],
            "_view_module": "@jupyter-widgets/output",
            "_model_module_version": "1.0.0",
            "_view_count": null,
            "_view_module_version": "1.0.0",
            "layout": "IPY_MODEL_2bd630afcfe4421f81c77e645f4b4df6",
            "_model_module": "@jupyter-widgets/output"
          }
        },
        "bd560393d44e42db8df0bf7019bcd226": {
          "model_module": "@jupyter-widgets/controls",
          "model_name": "DescriptionStyleModel",
          "state": {
            "_view_name": "StyleView",
            "_model_name": "DescriptionStyleModel",
            "description_width": "",
            "_view_module": "@jupyter-widgets/base",
            "_model_module_version": "1.5.0",
            "_view_count": null,
            "_view_module_version": "1.2.0",
            "_model_module": "@jupyter-widgets/controls"
          }
        },
        "0c1549d3bb744daba3bfec2194a16097": {
          "model_module": "@jupyter-widgets/base",
          "model_name": "LayoutModel",
          "state": {
            "_view_name": "LayoutView",
            "grid_template_rows": null,
            "right": null,
            "justify_content": null,
            "_view_module": "@jupyter-widgets/base",
            "overflow": null,
            "_model_module_version": "1.2.0",
            "_view_count": null,
            "flex_flow": null,
            "width": null,
            "min_width": null,
            "border": null,
            "align_items": null,
            "bottom": null,
            "_model_module": "@jupyter-widgets/base",
            "top": null,
            "grid_column": null,
            "overflow_y": null,
            "overflow_x": null,
            "grid_auto_flow": null,
            "grid_area": null,
            "grid_template_columns": null,
            "flex": null,
            "_model_name": "LayoutModel",
            "justify_items": null,
            "grid_row": null,
            "max_height": null,
            "align_content": null,
            "visibility": null,
            "align_self": null,
            "height": null,
            "min_height": null,
            "padding": null,
            "grid_auto_rows": null,
            "grid_gap": null,
            "max_width": null,
            "order": null,
            "_view_module_version": "1.2.0",
            "grid_template_areas": null,
            "object_position": null,
            "object_fit": null,
            "grid_auto_columns": null,
            "margin": null,
            "display": null,
            "left": null
          }
        },
        "bcfc03a755984fc892c1beffb1e98498": {
          "model_module": "@jupyter-widgets/controls",
          "model_name": "SliderStyleModel",
          "state": {
            "_view_name": "StyleView",
            "handle_color": null,
            "_model_name": "SliderStyleModel",
            "description_width": "",
            "_view_module": "@jupyter-widgets/base",
            "_model_module_version": "1.5.0",
            "_view_count": null,
            "_view_module_version": "1.2.0",
            "_model_module": "@jupyter-widgets/controls"
          }
        },
        "7d5e586c8c994fb9a9d6783d6545b712": {
          "model_module": "@jupyter-widgets/base",
          "model_name": "LayoutModel",
          "state": {
            "_view_name": "LayoutView",
            "grid_template_rows": null,
            "right": null,
            "justify_content": null,
            "_view_module": "@jupyter-widgets/base",
            "overflow": null,
            "_model_module_version": "1.2.0",
            "_view_count": null,
            "flex_flow": null,
            "width": null,
            "min_width": null,
            "border": null,
            "align_items": null,
            "bottom": null,
            "_model_module": "@jupyter-widgets/base",
            "top": null,
            "grid_column": null,
            "overflow_y": null,
            "overflow_x": null,
            "grid_auto_flow": null,
            "grid_area": null,
            "grid_template_columns": null,
            "flex": null,
            "_model_name": "LayoutModel",
            "justify_items": null,
            "grid_row": null,
            "max_height": null,
            "align_content": null,
            "visibility": null,
            "align_self": null,
            "height": null,
            "min_height": null,
            "padding": null,
            "grid_auto_rows": null,
            "grid_gap": null,
            "max_width": null,
            "order": null,
            "_view_module_version": "1.2.0",
            "grid_template_areas": null,
            "object_position": null,
            "object_fit": null,
            "grid_auto_columns": null,
            "margin": null,
            "display": null,
            "left": null
          }
        },
        "2bd630afcfe4421f81c77e645f4b4df6": {
          "model_module": "@jupyter-widgets/base",
          "model_name": "LayoutModel",
          "state": {
            "_view_name": "LayoutView",
            "grid_template_rows": null,
            "right": null,
            "justify_content": null,
            "_view_module": "@jupyter-widgets/base",
            "overflow": null,
            "_model_module_version": "1.2.0",
            "_view_count": null,
            "flex_flow": null,
            "width": null,
            "min_width": null,
            "border": null,
            "align_items": null,
            "bottom": null,
            "_model_module": "@jupyter-widgets/base",
            "top": null,
            "grid_column": null,
            "overflow_y": null,
            "overflow_x": null,
            "grid_auto_flow": null,
            "grid_area": null,
            "grid_template_columns": null,
            "flex": null,
            "_model_name": "LayoutModel",
            "justify_items": null,
            "grid_row": null,
            "max_height": null,
            "align_content": null,
            "visibility": null,
            "align_self": null,
            "height": null,
            "min_height": null,
            "padding": null,
            "grid_auto_rows": null,
            "grid_gap": null,
            "max_width": null,
            "order": null,
            "_view_module_version": "1.2.0",
            "grid_template_areas": null,
            "object_position": null,
            "object_fit": null,
            "grid_auto_columns": null,
            "margin": null,
            "display": null,
            "left": null
          }
        }
      }
    }
  },
  "cells": [
    {
      "cell_type": "markdown",
      "metadata": {
        "id": "K27Aqw0fnd7t"
      },
      "source": [
        "# Sinais de tempo discreto\n",
        "Apresentamos aqui alguns dos principais sinais reais em tempo discreto."
      ]
    },
    {
      "cell_type": "code",
      "metadata": {
        "code_folding": [
          0
        ],
        "id": "oFGXYzV1nd7v"
      },
      "source": [
        "# Importa bibliotecas\n",
        "import numpy as np, scipy as sp, matplotlib.pyplot as plt\n",
        "from ipywidgets import interact, interactive, fixed, interact_manual\n",
        "import ipywidgets as widgets\n",
        "%matplotlib inline"
      ],
      "execution_count": 1,
      "outputs": []
    },
    {
      "cell_type": "code",
      "metadata": {
        "code_folding": [
          0
        ],
        "id": "FGQzS1AyUlXz",
        "colab": {
          "base_uri": "https://localhost:8080/",
          "height": 651,
          "referenced_widgets": [
            "954e4f59971b4d6e8908a2c6554b582b",
            "21a06f7f9a554f7cb65ba8fddbe3a5f8",
            "9a33bbfbf4a144ee864b855d4f4cb46c",
            "8cdddc933bec46cbabd4329ea265dcb7",
            "f3ae33b9994c4e77a49e110f9589ae81",
            "006069ab464f4ec2b405a0d6d443183c",
            "204e575d8dff4f5abee39351884b812e",
            "373d438ea24f47f398abe9d295c0bdac",
            "6a2f204a3f944d668b283b1e32da3b6b",
            "e1a26386a52a4333bfa6f11207952da7",
            "f797ecb1922a4f5e854e9d023fe653f1",
            "abf4141e789e4be4931739337606be7c",
            "02be391a9fd04b4aa77a11bac413f0f1",
            "adbadaebbebd42daa7f99fc6a98f9b99",
            "9487807e1f314c57a75a3b946b4bc0ce",
            "bd560393d44e42db8df0bf7019bcd226",
            "0c1549d3bb744daba3bfec2194a16097",
            "bcfc03a755984fc892c1beffb1e98498",
            "7d5e586c8c994fb9a9d6783d6545b712",
            "2bd630afcfe4421f81c77e645f4b4df6"
          ]
        },
        "outputId": "84ade4da-b9b6-48d5-c0fb-6616955a269a"
      },
      "source": [
        "# Mostra Sinais discretos no domínio do tempo\n",
        "def sinalDiscreto(sinal, omega=.1):\n",
        "    N = 501; tf = 11; t0 = -11;\n",
        "    n = np.linspace(t0, tf, len(range(t0 ,tf))+1)\n",
        "    t = np.linspace(t0, tf, N)\n",
        "    \n",
        "    #if sinal == 'sin':\n",
        "    x_t = np.sin(omega*np.pi*t)\n",
        "    x_n = np.sin(omega*np.pi*n)\n",
        "\n",
        "    plt.figure(figsize=(15,3.5)); plt.title(r'$sin('+str(omega)+'\\pi n)$')\n",
        "    plt.plot(t, x_t, 'r', lw=1)\n",
        "    plt.stem(n, x_n, 'k', markerfmt='ok', basefmt='k', use_line_collection=True)\n",
        "    plt.xticks(range(t0-1,tf+1,1))\n",
        "    plt.xlim((-10.5, 10.5)); plt.grid(1, axis='x'); plt.xlabel(r'$n$'); plt.show()\n",
        "# Mecanismo de interação\n",
        "interact(sinalDiscreto, sinal=['sin'], omega=(0.00, 3.0, 0.1));\n",
        "interact(sinalDiscreto, sinal=['sin'], omega=(0.00, 10.0, 0.1));"
      ],
      "execution_count": 2,
      "outputs": [
        {
          "output_type": "display_data",
          "data": {
            "application/vnd.jupyter.widget-view+json": {
              "model_id": "954e4f59971b4d6e8908a2c6554b582b",
              "version_minor": 0,
              "version_major": 2
            },
            "text/plain": [
              "interactive(children=(Dropdown(description='sinal', options=('sin',), value='sin'), FloatSlider(value=0.1, des…"
            ]
          },
          "metadata": {
            "tags": []
          }
        },
        {
          "output_type": "display_data",
          "data": {
            "application/vnd.jupyter.widget-view+json": {
              "model_id": "f797ecb1922a4f5e854e9d023fe653f1",
              "version_minor": 0,
              "version_major": 2
            },
            "text/plain": [
              "interactive(children=(Dropdown(description='sinal', options=('sin',), value='sin'), FloatSlider(value=0.1, des…"
            ]
          },
          "metadata": {
            "tags": []
          }
        }
      ]
    },
    {
      "cell_type": "code",
      "metadata": {
        "id": "pDzF4gJNSjhw"
      },
      "source": [
        ""
      ],
      "execution_count": null,
      "outputs": []
    }
  ]
}